{
 "cells": [
  {
   "cell_type": "markdown",
   "metadata": {},
   "source": [
    "# SIT 720 - Assignment Task 1: Problem solving task.\n",
    "\n",
    "Student: Thanh (Tim) Nguyen - 218583133"
   ]
  },
  {
   "cell_type": "markdown",
   "metadata": {},
   "source": [
    "## Import Dependencies"
   ]
  },
  {
   "cell_type": "code",
   "execution_count": 1,
   "metadata": {},
   "outputs": [],
   "source": [
    "import csv\n",
    "import pandas as pd\n",
    "import numpy as np\n",
    "import matplotlib.pyplot as plt"
   ]
  },
  {
   "cell_type": "code",
   "execution_count": 2,
   "metadata": {},
   "outputs": [],
   "source": [
    "file = './ETTh1.csv'"
   ]
  },
  {
   "cell_type": "code",
   "execution_count": 3,
   "metadata": {},
   "outputs": [],
   "source": [
    "plt.rcParams['figure.dpi'] = 300\n",
    "plt.rcParams['savefig.dpi'] = 300"
   ]
  },
  {
   "cell_type": "markdown",
   "metadata": {},
   "source": [
    "## Question 1\n",
    "- Load the data from supplied data file\n",
    "- Remove the samples where the oil temperature is less than 4\n",
    "- Print the data dimension before and after"
   ]
  },
  {
   "cell_type": "code",
   "execution_count": 4,
   "metadata": {},
   "outputs": [
    {
     "name": "stdout",
     "output_type": "stream",
     "text": [
      "Original shape:  (17420, 8)\n",
      "Filtered shape:  (15699, 8)\n"
     ]
    }
   ],
   "source": [
    "# Load data\n",
    "data = pd.read_csv(file)\n",
    "\n",
    "# Original shape\n",
    "print('Original shape: ', data.shape)\n",
    "\n",
    "# Filter out the temperature < 4\n",
    "data = data[data.OT >= 4]\n",
    "\n",
    "# Filtered shape\n",
    "print('Filtered shape: ', data.shape)"
   ]
  },
  {
   "cell_type": "markdown",
   "metadata": {},
   "source": [
    "## Question 2\n",
    "- Load the data from supplied data file. \n",
    "- Display the number of rows and their indices that have missing value in one or more cells. \n",
    "- Replace the missing values by the lowest value of the corresponding feature only if the data type is numeric. \n",
    "- Print the mean values of all features before and after replacing missing data and explain the reason if they are not same."
   ]
  },
  {
   "cell_type": "code",
   "execution_count": 5,
   "metadata": {},
   "outputs": [
    {
     "data": {
      "text/html": [
       "<div>\n",
       "<style scoped>\n",
       "    .dataframe tbody tr th:only-of-type {\n",
       "        vertical-align: middle;\n",
       "    }\n",
       "\n",
       "    .dataframe tbody tr th {\n",
       "        vertical-align: top;\n",
       "    }\n",
       "\n",
       "    .dataframe thead th {\n",
       "        text-align: right;\n",
       "    }\n",
       "</style>\n",
       "<table border=\"1\" class=\"dataframe\">\n",
       "  <thead>\n",
       "    <tr style=\"text-align: right;\">\n",
       "      <th></th>\n",
       "      <th>date</th>\n",
       "      <th>HUFL</th>\n",
       "      <th>HULL</th>\n",
       "      <th>MUFL</th>\n",
       "      <th>MULL</th>\n",
       "      <th>LUFL</th>\n",
       "      <th>LULL</th>\n",
       "      <th>OT</th>\n",
       "    </tr>\n",
       "  </thead>\n",
       "  <tbody>\n",
       "    <tr>\n",
       "      <th>17301</th>\n",
       "      <td>21/06/2018 21:00</td>\n",
       "      <td>8.172000</td>\n",
       "      <td>2.009</td>\n",
       "      <td>NaN</td>\n",
       "      <td>0.497</td>\n",
       "      <td>3.046</td>\n",
       "      <td>1.127</td>\n",
       "      <td>8.371</td>\n",
       "    </tr>\n",
       "    <tr>\n",
       "      <th>17319</th>\n",
       "      <td>NaN</td>\n",
       "      <td>1.541000</td>\n",
       "      <td>3.014</td>\n",
       "      <td>-0.675</td>\n",
       "      <td>0.888</td>\n",
       "      <td>2.498</td>\n",
       "      <td>1.218</td>\n",
       "      <td>4.643</td>\n",
       "    </tr>\n",
       "    <tr>\n",
       "      <th>17328</th>\n",
       "      <td>23/06/2018 0:00</td>\n",
       "      <td>16.476999</td>\n",
       "      <td>6.765</td>\n",
       "      <td>12.117</td>\n",
       "      <td>4.335</td>\n",
       "      <td>NaN</td>\n",
       "      <td>1.249</td>\n",
       "      <td>5.346</td>\n",
       "    </tr>\n",
       "    <tr>\n",
       "      <th>17346</th>\n",
       "      <td>23/06/2018 18:00</td>\n",
       "      <td>6.631000</td>\n",
       "      <td>NaN</td>\n",
       "      <td>3.731</td>\n",
       "      <td>1.279</td>\n",
       "      <td>2.833</td>\n",
       "      <td>1.127</td>\n",
       "      <td>8.301</td>\n",
       "    </tr>\n",
       "    <tr>\n",
       "      <th>17372</th>\n",
       "      <td>24/06/2018 20:00</td>\n",
       "      <td>8.239000</td>\n",
       "      <td>2.344</td>\n",
       "      <td>NaN</td>\n",
       "      <td>0.995</td>\n",
       "      <td>2.802</td>\n",
       "      <td>0.944</td>\n",
       "      <td>8.864</td>\n",
       "    </tr>\n",
       "    <tr>\n",
       "      <th>17384</th>\n",
       "      <td>NaN</td>\n",
       "      <td>3.684000</td>\n",
       "      <td>5.090</td>\n",
       "      <td>-1.457</td>\n",
       "      <td>3.198</td>\n",
       "      <td>5.239</td>\n",
       "      <td>1.919</td>\n",
       "      <td>10.974</td>\n",
       "    </tr>\n",
       "    <tr>\n",
       "      <th>17416</th>\n",
       "      <td>26/06/2018 16:00</td>\n",
       "      <td>-5.492000</td>\n",
       "      <td>4.287</td>\n",
       "      <td>-9.132</td>\n",
       "      <td>2.274</td>\n",
       "      <td>NaN</td>\n",
       "      <td>1.675</td>\n",
       "      <td>11.044</td>\n",
       "    </tr>\n",
       "  </tbody>\n",
       "</table>\n",
       "</div>"
      ],
      "text/plain": [
       "                   date       HUFL   HULL    MUFL   MULL   LUFL   LULL      OT\n",
       "17301  21/06/2018 21:00   8.172000  2.009     NaN  0.497  3.046  1.127   8.371\n",
       "17319               NaN   1.541000  3.014  -0.675  0.888  2.498  1.218   4.643\n",
       "17328   23/06/2018 0:00  16.476999  6.765  12.117  4.335    NaN  1.249   5.346\n",
       "17346  23/06/2018 18:00   6.631000    NaN   3.731  1.279  2.833  1.127   8.301\n",
       "17372  24/06/2018 20:00   8.239000  2.344     NaN  0.995  2.802  0.944   8.864\n",
       "17384               NaN   3.684000  5.090  -1.457  3.198  5.239  1.919  10.974\n",
       "17416  26/06/2018 16:00  -5.492000  4.287  -9.132  2.274    NaN  1.675  11.044"
      ]
     },
     "metadata": {},
     "output_type": "display_data"
    }
   ],
   "source": [
    "data = pd.read_csv(file)\n",
    "missing = data[data.isnull().any(1)]\n",
    "display(missing)"
   ]
  },
  {
   "cell_type": "code",
   "execution_count": 6,
   "metadata": {},
   "outputs": [
    {
     "name": "stderr",
     "output_type": "stream",
     "text": [
      "/tmp/ipykernel_10291/531903386.py:1: FutureWarning: Dropping of nuisance columns in DataFrame reductions (with 'numeric_only=None') is deprecated; in a future version this will raise TypeError.  Select only valid columns before calling the reduction.\n",
      "  data.mean()\n"
     ]
    },
    {
     "data": {
      "text/plain": [
       "HUFL     7.375141\n",
       "HULL     2.242217\n",
       "MUFL     4.300127\n",
       "MULL     0.881568\n",
       "LUFL     3.065961\n",
       "LULL     0.856932\n",
       "OT      13.324672\n",
       "dtype: float64"
      ]
     },
     "execution_count": 6,
     "metadata": {},
     "output_type": "execute_result"
    }
   ],
   "source": [
    "data.mean()"
   ]
  },
  {
   "cell_type": "code",
   "execution_count": 7,
   "metadata": {},
   "outputs": [
    {
     "name": "stderr",
     "output_type": "stream",
     "text": [
      "/tmp/ipykernel_10291/1757227276.py:1: FutureWarning: Dropping of nuisance columns in DataFrame reductions (with 'numeric_only=None') is deprecated; in a future version this will raise TypeError.  Select only valid columns before calling the reduction.\n",
      "  min = data.min()\n"
     ]
    },
    {
     "data": {
      "text/html": [
       "<div>\n",
       "<style scoped>\n",
       "    .dataframe tbody tr th:only-of-type {\n",
       "        vertical-align: middle;\n",
       "    }\n",
       "\n",
       "    .dataframe tbody tr th {\n",
       "        vertical-align: top;\n",
       "    }\n",
       "\n",
       "    .dataframe thead th {\n",
       "        text-align: right;\n",
       "    }\n",
       "</style>\n",
       "<table border=\"1\" class=\"dataframe\">\n",
       "  <thead>\n",
       "    <tr style=\"text-align: right;\">\n",
       "      <th></th>\n",
       "      <th>date</th>\n",
       "      <th>HUFL</th>\n",
       "      <th>HULL</th>\n",
       "      <th>MUFL</th>\n",
       "      <th>MULL</th>\n",
       "      <th>LUFL</th>\n",
       "      <th>LULL</th>\n",
       "      <th>OT</th>\n",
       "    </tr>\n",
       "  </thead>\n",
       "  <tbody>\n",
       "    <tr>\n",
       "      <th>17301</th>\n",
       "      <td>21/06/2018 21:00</td>\n",
       "      <td>8.172000</td>\n",
       "      <td>2.009</td>\n",
       "      <td>-25.087999</td>\n",
       "      <td>0.497</td>\n",
       "      <td>3.046</td>\n",
       "      <td>1.127</td>\n",
       "      <td>8.371</td>\n",
       "    </tr>\n",
       "    <tr>\n",
       "      <th>17319</th>\n",
       "      <td>NaN</td>\n",
       "      <td>1.541000</td>\n",
       "      <td>3.014</td>\n",
       "      <td>-0.675000</td>\n",
       "      <td>0.888</td>\n",
       "      <td>2.498</td>\n",
       "      <td>1.218</td>\n",
       "      <td>4.643</td>\n",
       "    </tr>\n",
       "    <tr>\n",
       "      <th>17328</th>\n",
       "      <td>23/06/2018 0:00</td>\n",
       "      <td>16.476999</td>\n",
       "      <td>6.765</td>\n",
       "      <td>12.117000</td>\n",
       "      <td>4.335</td>\n",
       "      <td>-1.188</td>\n",
       "      <td>1.249</td>\n",
       "      <td>5.346</td>\n",
       "    </tr>\n",
       "    <tr>\n",
       "      <th>17346</th>\n",
       "      <td>23/06/2018 18:00</td>\n",
       "      <td>6.631000</td>\n",
       "      <td>-4.756</td>\n",
       "      <td>3.731000</td>\n",
       "      <td>1.279</td>\n",
       "      <td>2.833</td>\n",
       "      <td>1.127</td>\n",
       "      <td>8.301</td>\n",
       "    </tr>\n",
       "    <tr>\n",
       "      <th>17372</th>\n",
       "      <td>24/06/2018 20:00</td>\n",
       "      <td>8.239000</td>\n",
       "      <td>2.344</td>\n",
       "      <td>-25.087999</td>\n",
       "      <td>0.995</td>\n",
       "      <td>2.802</td>\n",
       "      <td>0.944</td>\n",
       "      <td>8.864</td>\n",
       "    </tr>\n",
       "    <tr>\n",
       "      <th>17384</th>\n",
       "      <td>NaN</td>\n",
       "      <td>3.684000</td>\n",
       "      <td>5.090</td>\n",
       "      <td>-1.457000</td>\n",
       "      <td>3.198</td>\n",
       "      <td>5.239</td>\n",
       "      <td>1.919</td>\n",
       "      <td>10.974</td>\n",
       "    </tr>\n",
       "    <tr>\n",
       "      <th>17416</th>\n",
       "      <td>26/06/2018 16:00</td>\n",
       "      <td>-5.492000</td>\n",
       "      <td>4.287</td>\n",
       "      <td>-9.132000</td>\n",
       "      <td>2.274</td>\n",
       "      <td>-1.188</td>\n",
       "      <td>1.675</td>\n",
       "      <td>11.044</td>\n",
       "    </tr>\n",
       "  </tbody>\n",
       "</table>\n",
       "</div>"
      ],
      "text/plain": [
       "                   date       HUFL   HULL       MUFL   MULL   LUFL   LULL  \\\n",
       "17301  21/06/2018 21:00   8.172000  2.009 -25.087999  0.497  3.046  1.127   \n",
       "17319               NaN   1.541000  3.014  -0.675000  0.888  2.498  1.218   \n",
       "17328   23/06/2018 0:00  16.476999  6.765  12.117000  4.335 -1.188  1.249   \n",
       "17346  23/06/2018 18:00   6.631000 -4.756   3.731000  1.279  2.833  1.127   \n",
       "17372  24/06/2018 20:00   8.239000  2.344 -25.087999  0.995  2.802  0.944   \n",
       "17384               NaN   3.684000  5.090  -1.457000  3.198  5.239  1.919   \n",
       "17416  26/06/2018 16:00  -5.492000  4.287  -9.132000  2.274 -1.188  1.675   \n",
       "\n",
       "           OT  \n",
       "17301   8.371  \n",
       "17319   4.643  \n",
       "17328   5.346  \n",
       "17346   8.301  \n",
       "17372   8.864  \n",
       "17384  10.974  \n",
       "17416  11.044  "
      ]
     },
     "metadata": {},
     "output_type": "display_data"
    }
   ],
   "source": [
    "min = data.min()\n",
    "data = data.fillna(min)\n",
    "\n",
    "# The cells are fixed like this:\n",
    "replaced = missing.fillna(min)\n",
    "display(replaced)"
   ]
  },
  {
   "cell_type": "code",
   "execution_count": 8,
   "metadata": {},
   "outputs": [
    {
     "name": "stderr",
     "output_type": "stream",
     "text": [
      "/tmp/ipykernel_10291/531903386.py:1: FutureWarning: Dropping of nuisance columns in DataFrame reductions (with 'numeric_only=None') is deprecated; in a future version this will raise TypeError.  Select only valid columns before calling the reduction.\n",
      "  data.mean()\n"
     ]
    },
    {
     "data": {
      "text/plain": [
       "HUFL     7.375141\n",
       "HULL     2.241816\n",
       "MUFL     4.296753\n",
       "MULL     0.881568\n",
       "LUFL     3.065473\n",
       "LULL     0.856932\n",
       "OT      13.324672\n",
       "dtype: float64"
      ]
     },
     "execution_count": 8,
     "metadata": {},
     "output_type": "execute_result"
    }
   ],
   "source": [
    "data.mean()"
   ]
  },
  {
   "cell_type": "markdown",
   "metadata": {},
   "source": [
    "Explaination: the method `mean()` calculates the average value for all columns.\n",
    "For the data with the missing values, it will not use those missing value to calculate.\n",
    "After filling missing values with the minimum of each column, the `mean()` method would return different values.\n",
    "\n",
    "We also observed that the mean value is lower after filling, it is because we used the minimum value, which is less than average."
   ]
  },
  {
   "cell_type": "markdown",
   "metadata": {},
   "source": [
    "## Question 3\n",
    "- Continue from [question 2](#question-2). \n",
    "- Find the date where oil temperature is more than 20\n",
    "- Display those observations."
   ]
  },
  {
   "cell_type": "code",
   "execution_count": 9,
   "metadata": {},
   "outputs": [
    {
     "data": {
      "text/html": [
       "<div>\n",
       "<style scoped>\n",
       "    .dataframe tbody tr th:only-of-type {\n",
       "        vertical-align: middle;\n",
       "    }\n",
       "\n",
       "    .dataframe tbody tr th {\n",
       "        vertical-align: top;\n",
       "    }\n",
       "\n",
       "    .dataframe thead th {\n",
       "        text-align: right;\n",
       "    }\n",
       "</style>\n",
       "<table border=\"1\" class=\"dataframe\">\n",
       "  <thead>\n",
       "    <tr style=\"text-align: right;\">\n",
       "      <th></th>\n",
       "      <th>date</th>\n",
       "      <th>HUFL</th>\n",
       "      <th>HULL</th>\n",
       "      <th>MUFL</th>\n",
       "      <th>MULL</th>\n",
       "      <th>LUFL</th>\n",
       "      <th>LULL</th>\n",
       "      <th>OT</th>\n",
       "    </tr>\n",
       "  </thead>\n",
       "  <tbody>\n",
       "    <tr>\n",
       "      <th>0</th>\n",
       "      <td>1/07/2016 0:00</td>\n",
       "      <td>5.827</td>\n",
       "      <td>2.009</td>\n",
       "      <td>1.599</td>\n",
       "      <td>0.462</td>\n",
       "      <td>4.203</td>\n",
       "      <td>1.340</td>\n",
       "      <td>30.531000</td>\n",
       "    </tr>\n",
       "    <tr>\n",
       "      <th>1</th>\n",
       "      <td>1/07/2016 1:00</td>\n",
       "      <td>5.693</td>\n",
       "      <td>2.076</td>\n",
       "      <td>1.492</td>\n",
       "      <td>0.426</td>\n",
       "      <td>4.142</td>\n",
       "      <td>1.371</td>\n",
       "      <td>27.787001</td>\n",
       "    </tr>\n",
       "    <tr>\n",
       "      <th>2</th>\n",
       "      <td>1/07/2016 2:00</td>\n",
       "      <td>5.157</td>\n",
       "      <td>1.741</td>\n",
       "      <td>1.279</td>\n",
       "      <td>0.355</td>\n",
       "      <td>3.777</td>\n",
       "      <td>1.218</td>\n",
       "      <td>27.787001</td>\n",
       "    </tr>\n",
       "    <tr>\n",
       "      <th>3</th>\n",
       "      <td>1/07/2016 3:00</td>\n",
       "      <td>5.090</td>\n",
       "      <td>1.942</td>\n",
       "      <td>1.279</td>\n",
       "      <td>0.391</td>\n",
       "      <td>3.807</td>\n",
       "      <td>1.279</td>\n",
       "      <td>25.044001</td>\n",
       "    </tr>\n",
       "    <tr>\n",
       "      <th>4</th>\n",
       "      <td>1/07/2016 4:00</td>\n",
       "      <td>5.358</td>\n",
       "      <td>1.942</td>\n",
       "      <td>1.492</td>\n",
       "      <td>0.462</td>\n",
       "      <td>3.868</td>\n",
       "      <td>1.279</td>\n",
       "      <td>21.948000</td>\n",
       "    </tr>\n",
       "    <tr>\n",
       "      <th>...</th>\n",
       "      <td>...</td>\n",
       "      <td>...</td>\n",
       "      <td>...</td>\n",
       "      <td>...</td>\n",
       "      <td>...</td>\n",
       "      <td>...</td>\n",
       "      <td>...</td>\n",
       "      <td>...</td>\n",
       "    </tr>\n",
       "    <tr>\n",
       "      <th>10144</th>\n",
       "      <td>27/08/2017 16:00</td>\n",
       "      <td>-1.072</td>\n",
       "      <td>4.823</td>\n",
       "      <td>-4.868</td>\n",
       "      <td>3.376</td>\n",
       "      <td>3.533</td>\n",
       "      <td>1.157</td>\n",
       "      <td>20.049000</td>\n",
       "    </tr>\n",
       "    <tr>\n",
       "      <th>10166</th>\n",
       "      <td>28/08/2017 14:00</td>\n",
       "      <td>-2.880</td>\n",
       "      <td>6.229</td>\n",
       "      <td>-7.960</td>\n",
       "      <td>5.366</td>\n",
       "      <td>4.386</td>\n",
       "      <td>1.279</td>\n",
       "      <td>20.118999</td>\n",
       "    </tr>\n",
       "    <tr>\n",
       "      <th>10167</th>\n",
       "      <td>28/08/2017 15:00</td>\n",
       "      <td>-3.215</td>\n",
       "      <td>6.966</td>\n",
       "      <td>-7.569</td>\n",
       "      <td>5.010</td>\n",
       "      <td>4.599</td>\n",
       "      <td>1.218</td>\n",
       "      <td>20.541000</td>\n",
       "    </tr>\n",
       "    <tr>\n",
       "      <th>10168</th>\n",
       "      <td>28/08/2017 16:00</td>\n",
       "      <td>0.000</td>\n",
       "      <td>5.023</td>\n",
       "      <td>-4.051</td>\n",
       "      <td>3.376</td>\n",
       "      <td>4.051</td>\n",
       "      <td>1.432</td>\n",
       "      <td>21.597000</td>\n",
       "    </tr>\n",
       "    <tr>\n",
       "      <th>10169</th>\n",
       "      <td>28/08/2017 17:00</td>\n",
       "      <td>5.358</td>\n",
       "      <td>3.818</td>\n",
       "      <td>1.208</td>\n",
       "      <td>2.452</td>\n",
       "      <td>4.295</td>\n",
       "      <td>1.401</td>\n",
       "      <td>22.230000</td>\n",
       "    </tr>\n",
       "  </tbody>\n",
       "</table>\n",
       "<p>3361 rows × 8 columns</p>\n",
       "</div>"
      ],
      "text/plain": [
       "                   date   HUFL   HULL   MUFL   MULL   LUFL   LULL         OT\n",
       "0        1/07/2016 0:00  5.827  2.009  1.599  0.462  4.203  1.340  30.531000\n",
       "1        1/07/2016 1:00  5.693  2.076  1.492  0.426  4.142  1.371  27.787001\n",
       "2        1/07/2016 2:00  5.157  1.741  1.279  0.355  3.777  1.218  27.787001\n",
       "3        1/07/2016 3:00  5.090  1.942  1.279  0.391  3.807  1.279  25.044001\n",
       "4        1/07/2016 4:00  5.358  1.942  1.492  0.462  3.868  1.279  21.948000\n",
       "...                 ...    ...    ...    ...    ...    ...    ...        ...\n",
       "10144  27/08/2017 16:00 -1.072  4.823 -4.868  3.376  3.533  1.157  20.049000\n",
       "10166  28/08/2017 14:00 -2.880  6.229 -7.960  5.366  4.386  1.279  20.118999\n",
       "10167  28/08/2017 15:00 -3.215  6.966 -7.569  5.010  4.599  1.218  20.541000\n",
       "10168  28/08/2017 16:00  0.000  5.023 -4.051  3.376  4.051  1.432  21.597000\n",
       "10169  28/08/2017 17:00  5.358  3.818  1.208  2.452  4.295  1.401  22.230000\n",
       "\n",
       "[3361 rows x 8 columns]"
      ]
     },
     "metadata": {},
     "output_type": "display_data"
    }
   ],
   "source": [
    "oil_more_than_20 = data[data.OT >= 20]\n",
    "display(oil_more_than_20)"
   ]
  },
  {
   "cell_type": "markdown",
   "metadata": {},
   "source": [
    "## Question 4\n",
    "- Continue from [question 3](#question-3)\n",
    "- Which feature(s) having the strongest influence on oil temperature?"
   ]
  },
  {
   "cell_type": "code",
   "execution_count": 10,
   "metadata": {},
   "outputs": [
    {
     "data": {
      "text/plain": [
       "<matplotlib.legend.Legend at 0x7fd6b082b040>"
      ]
     },
     "execution_count": 10,
     "metadata": {},
     "output_type": "execute_result"
    },
    {
     "data": {
      "image/png": "[encoded data removed]",
      "text/plain": [
       "<Figure size 864x432 with 1 Axes>"
      ]
     },
     "metadata": {
      "needs_background": "light"
     },
     "output_type": "display_data"
    }
   ],
   "source": [
    "plt.figure(figsize=(12, 6))\n",
    "\n",
    "for col in data.columns:\n",
    "    if col == 'date': continue\n",
    "    plt.plot(data[col], label=col)\n",
    "\n",
    "plt.ylabel('Value')\n",
    "plt.xlabel('Index')\n",
    "plt.legend(loc = 'best')"
   ]
  },
  {
   "cell_type": "code",
   "execution_count": 11,
   "metadata": {},
   "outputs": [
    {
     "data": {
      "text/plain": [
       "<matplotlib.legend.Legend at 0x7fd6ae405570>"
      ]
     },
     "execution_count": 11,
     "metadata": {},
     "output_type": "execute_result"
    },
    {
     "data": {
      "image/png": "[encoded data removed]",
      "text/plain": [
       "<Figure size 864x432 with 1 Axes>"
      ]
     },
     "metadata": {
      "needs_background": "light"
     },
     "output_type": "display_data"
    }
   ],
   "source": [
    "plt.figure(figsize=(12, 6))\n",
    "\n",
    "plt.plot(data.HULL, label='HULL')\n",
    "plt.plot(data.MULL, label='MULL')\n",
    "plt.plot(data.OT, label='OT')\n",
    "\n",
    "plt.ylabel('Value')\n",
    "plt.xlabel('Index')\n",
    "plt.legend(loc = 'best')"
   ]
  },
  {
   "cell_type": "markdown",
   "metadata": {},
   "source": [
    "The two column `HUFL` and `MUFL` have their values fluctuates  "
   ]
  },
  {
   "cell_type": "markdown",
   "metadata": {},
   "source": [
    "## Question 5\n",
    "- Load the data from supplied file\n",
    "- Print the average value of all numeric features where oil temperature is less than 7 and greater than 4."
   ]
  },
  {
   "cell_type": "code",
   "execution_count": 12,
   "metadata": {},
   "outputs": [
    {
     "data": {
      "text/html": [
       "<div>\n",
       "<style scoped>\n",
       "    .dataframe tbody tr th:only-of-type {\n",
       "        vertical-align: middle;\n",
       "    }\n",
       "\n",
       "    .dataframe tbody tr th {\n",
       "        vertical-align: top;\n",
       "    }\n",
       "\n",
       "    .dataframe thead th {\n",
       "        text-align: right;\n",
       "    }\n",
       "</style>\n",
       "<table border=\"1\" class=\"dataframe\">\n",
       "  <thead>\n",
       "    <tr style=\"text-align: right;\">\n",
       "      <th></th>\n",
       "      <th>date</th>\n",
       "      <th>HUFL</th>\n",
       "      <th>HULL</th>\n",
       "      <th>MUFL</th>\n",
       "      <th>MULL</th>\n",
       "      <th>LUFL</th>\n",
       "      <th>LULL</th>\n",
       "      <th>OT</th>\n",
       "    </tr>\n",
       "  </thead>\n",
       "  <tbody>\n",
       "    <tr>\n",
       "      <th>2883</th>\n",
       "      <td>29/10/2016 3:00</td>\n",
       "      <td>12.793</td>\n",
       "      <td>2.344</td>\n",
       "      <td>9.026</td>\n",
       "      <td>2.985</td>\n",
       "      <td>3.564</td>\n",
       "      <td>-0.579</td>\n",
       "      <td>6.824</td>\n",
       "    </tr>\n",
       "    <tr>\n",
       "      <th>2884</th>\n",
       "      <td>29/10/2016 4:00</td>\n",
       "      <td>12.927</td>\n",
       "      <td>2.746</td>\n",
       "      <td>8.813</td>\n",
       "      <td>2.487</td>\n",
       "      <td>3.594</td>\n",
       "      <td>-0.579</td>\n",
       "      <td>5.698</td>\n",
       "    </tr>\n",
       "    <tr>\n",
       "      <th>2885</th>\n",
       "      <td>29/10/2016 5:00</td>\n",
       "      <td>13.396</td>\n",
       "      <td>2.947</td>\n",
       "      <td>9.381</td>\n",
       "      <td>2.914</td>\n",
       "      <td>3.807</td>\n",
       "      <td>-0.548</td>\n",
       "      <td>4.995</td>\n",
       "    </tr>\n",
       "    <tr>\n",
       "      <th>2886</th>\n",
       "      <td>29/10/2016 6:00</td>\n",
       "      <td>12.860</td>\n",
       "      <td>2.344</td>\n",
       "      <td>8.884</td>\n",
       "      <td>2.452</td>\n",
       "      <td>4.173</td>\n",
       "      <td>-0.487</td>\n",
       "      <td>4.854</td>\n",
       "    </tr>\n",
       "    <tr>\n",
       "      <th>2887</th>\n",
       "      <td>29/10/2016 7:00</td>\n",
       "      <td>16.343</td>\n",
       "      <td>3.952</td>\n",
       "      <td>11.442</td>\n",
       "      <td>3.340</td>\n",
       "      <td>4.995</td>\n",
       "      <td>-0.457</td>\n",
       "      <td>6.824</td>\n",
       "    </tr>\n",
       "    <tr>\n",
       "      <th>...</th>\n",
       "      <td>...</td>\n",
       "      <td>...</td>\n",
       "      <td>...</td>\n",
       "      <td>...</td>\n",
       "      <td>...</td>\n",
       "      <td>...</td>\n",
       "      <td>...</td>\n",
       "      <td>...</td>\n",
       "    </tr>\n",
       "    <tr>\n",
       "      <th>17353</th>\n",
       "      <td>24/06/2018 1:00</td>\n",
       "      <td>14.334</td>\n",
       "      <td>5.090</td>\n",
       "      <td>10.163</td>\n",
       "      <td>3.305</td>\n",
       "      <td>4.538</td>\n",
       "      <td>1.401</td>\n",
       "      <td>6.613</td>\n",
       "    </tr>\n",
       "    <tr>\n",
       "      <th>17354</th>\n",
       "      <td>24/06/2018 2:00</td>\n",
       "      <td>15.673</td>\n",
       "      <td>6.162</td>\n",
       "      <td>11.798</td>\n",
       "      <td>4.158</td>\n",
       "      <td>4.142</td>\n",
       "      <td>1.157</td>\n",
       "      <td>6.402</td>\n",
       "    </tr>\n",
       "    <tr>\n",
       "      <th>17355</th>\n",
       "      <td>24/06/2018 3:00</td>\n",
       "      <td>14.669</td>\n",
       "      <td>5.827</td>\n",
       "      <td>9.950</td>\n",
       "      <td>3.696</td>\n",
       "      <td>4.386</td>\n",
       "      <td>1.401</td>\n",
       "      <td>6.542</td>\n",
       "    </tr>\n",
       "    <tr>\n",
       "      <th>17356</th>\n",
       "      <td>24/06/2018 4:00</td>\n",
       "      <td>14.133</td>\n",
       "      <td>5.626</td>\n",
       "      <td>9.737</td>\n",
       "      <td>3.482</td>\n",
       "      <td>4.477</td>\n",
       "      <td>1.310</td>\n",
       "      <td>6.964</td>\n",
       "    </tr>\n",
       "    <tr>\n",
       "      <th>17357</th>\n",
       "      <td>24/06/2018 5:00</td>\n",
       "      <td>15.740</td>\n",
       "      <td>5.760</td>\n",
       "      <td>10.163</td>\n",
       "      <td>2.914</td>\n",
       "      <td>5.391</td>\n",
       "      <td>1.675</td>\n",
       "      <td>6.894</td>\n",
       "    </tr>\n",
       "  </tbody>\n",
       "</table>\n",
       "<p>2635 rows × 8 columns</p>\n",
       "</div>"
      ],
      "text/plain": [
       "                  date    HUFL   HULL    MUFL   MULL   LUFL   LULL     OT\n",
       "2883   29/10/2016 3:00  12.793  2.344   9.026  2.985  3.564 -0.579  6.824\n",
       "2884   29/10/2016 4:00  12.927  2.746   8.813  2.487  3.594 -0.579  5.698\n",
       "2885   29/10/2016 5:00  13.396  2.947   9.381  2.914  3.807 -0.548  4.995\n",
       "2886   29/10/2016 6:00  12.860  2.344   8.884  2.452  4.173 -0.487  4.854\n",
       "2887   29/10/2016 7:00  16.343  3.952  11.442  3.340  4.995 -0.457  6.824\n",
       "...                ...     ...    ...     ...    ...    ...    ...    ...\n",
       "17353  24/06/2018 1:00  14.334  5.090  10.163  3.305  4.538  1.401  6.613\n",
       "17354  24/06/2018 2:00  15.673  6.162  11.798  4.158  4.142  1.157  6.402\n",
       "17355  24/06/2018 3:00  14.669  5.827   9.950  3.696  4.386  1.401  6.542\n",
       "17356  24/06/2018 4:00  14.133  5.626   9.737  3.482  4.477  1.310  6.964\n",
       "17357  24/06/2018 5:00  15.740  5.760  10.163  2.914  5.391  1.675  6.894\n",
       "\n",
       "[2635 rows x 8 columns]"
      ]
     },
     "execution_count": 12,
     "metadata": {},
     "output_type": "execute_result"
    }
   ],
   "source": [
    "data = pd.read_csv(file)\n",
    "\n",
    "data[(data.OT>4) & (data.OT<7)]"
   ]
  },
  {
   "cell_type": "markdown",
   "metadata": {},
   "source": [
    "## Question 6\n",
    "Display the number of observations that satisfies following conditions:\n",
    "1. OT value is within the range between 10 and 25\n",
    "2. HUFL is positive\n",
    "3. 4 < MUFL < 11"
   ]
  },
  {
   "cell_type": "code",
   "execution_count": 13,
   "metadata": {},
   "outputs": [
    {
     "data": {
      "text/html": [
       "<div>\n",
       "<style scoped>\n",
       "    .dataframe tbody tr th:only-of-type {\n",
       "        vertical-align: middle;\n",
       "    }\n",
       "\n",
       "    .dataframe tbody tr th {\n",
       "        vertical-align: top;\n",
       "    }\n",
       "\n",
       "    .dataframe thead th {\n",
       "        text-align: right;\n",
       "    }\n",
       "</style>\n",
       "<table border=\"1\" class=\"dataframe\">\n",
       "  <thead>\n",
       "    <tr style=\"text-align: right;\">\n",
       "      <th></th>\n",
       "      <th>date</th>\n",
       "      <th>HUFL</th>\n",
       "      <th>HULL</th>\n",
       "      <th>MUFL</th>\n",
       "      <th>MULL</th>\n",
       "      <th>LUFL</th>\n",
       "      <th>LULL</th>\n",
       "      <th>OT</th>\n",
       "    </tr>\n",
       "  </thead>\n",
       "  <tbody>\n",
       "    <tr>\n",
       "      <th>34</th>\n",
       "      <td>2/07/2016 10:00</td>\n",
       "      <td>9.913</td>\n",
       "      <td>4.957</td>\n",
       "      <td>6.645</td>\n",
       "      <td>3.305</td>\n",
       "      <td>3.046</td>\n",
       "      <td>1.553</td>\n",
       "      <td>20.962999</td>\n",
       "    </tr>\n",
       "    <tr>\n",
       "      <th>35</th>\n",
       "      <td>2/07/2016 11:00</td>\n",
       "      <td>11.788</td>\n",
       "      <td>5.425</td>\n",
       "      <td>8.173</td>\n",
       "      <td>2.523</td>\n",
       "      <td>3.686</td>\n",
       "      <td>1.675</td>\n",
       "      <td>19.416000</td>\n",
       "    </tr>\n",
       "    <tr>\n",
       "      <th>36</th>\n",
       "      <td>2/07/2016 12:00</td>\n",
       "      <td>9.645</td>\n",
       "      <td>4.957</td>\n",
       "      <td>6.752</td>\n",
       "      <td>2.132</td>\n",
       "      <td>3.107</td>\n",
       "      <td>1.828</td>\n",
       "      <td>20.823000</td>\n",
       "    </tr>\n",
       "    <tr>\n",
       "      <th>37</th>\n",
       "      <td>2/07/2016 13:00</td>\n",
       "      <td>10.382</td>\n",
       "      <td>5.760</td>\n",
       "      <td>7.462</td>\n",
       "      <td>2.559</td>\n",
       "      <td>2.985</td>\n",
       "      <td>1.767</td>\n",
       "      <td>20.190001</td>\n",
       "    </tr>\n",
       "    <tr>\n",
       "      <th>38</th>\n",
       "      <td>2/07/2016 14:00</td>\n",
       "      <td>8.774</td>\n",
       "      <td>4.689</td>\n",
       "      <td>6.112</td>\n",
       "      <td>2.025</td>\n",
       "      <td>2.894</td>\n",
       "      <td>1.919</td>\n",
       "      <td>21.315001</td>\n",
       "    </tr>\n",
       "    <tr>\n",
       "      <th>...</th>\n",
       "      <td>...</td>\n",
       "      <td>...</td>\n",
       "      <td>...</td>\n",
       "      <td>...</td>\n",
       "      <td>...</td>\n",
       "      <td>...</td>\n",
       "      <td>...</td>\n",
       "      <td>...</td>\n",
       "    </tr>\n",
       "    <tr>\n",
       "      <th>17229</th>\n",
       "      <td>18/06/2018 21:00</td>\n",
       "      <td>12.927</td>\n",
       "      <td>3.885</td>\n",
       "      <td>9.381</td>\n",
       "      <td>1.741</td>\n",
       "      <td>3.746</td>\n",
       "      <td>1.097</td>\n",
       "      <td>10.200000</td>\n",
       "    </tr>\n",
       "    <tr>\n",
       "      <th>17230</th>\n",
       "      <td>18/06/2018 22:00</td>\n",
       "      <td>12.056</td>\n",
       "      <td>4.086</td>\n",
       "      <td>8.635</td>\n",
       "      <td>2.132</td>\n",
       "      <td>3.442</td>\n",
       "      <td>1.249</td>\n",
       "      <td>10.130000</td>\n",
       "    </tr>\n",
       "    <tr>\n",
       "      <th>17231</th>\n",
       "      <td>18/06/2018 23:00</td>\n",
       "      <td>13.329</td>\n",
       "      <td>4.555</td>\n",
       "      <td>7.782</td>\n",
       "      <td>1.670</td>\n",
       "      <td>5.483</td>\n",
       "      <td>1.614</td>\n",
       "      <td>10.271000</td>\n",
       "    </tr>\n",
       "    <tr>\n",
       "      <th>17394</th>\n",
       "      <td>25/06/2018 18:00</td>\n",
       "      <td>8.841</td>\n",
       "      <td>3.550</td>\n",
       "      <td>5.366</td>\n",
       "      <td>1.777</td>\n",
       "      <td>3.472</td>\n",
       "      <td>1.310</td>\n",
       "      <td>11.185000</td>\n",
       "    </tr>\n",
       "    <tr>\n",
       "      <th>17395</th>\n",
       "      <td>25/06/2018 19:00</td>\n",
       "      <td>9.511</td>\n",
       "      <td>2.813</td>\n",
       "      <td>6.183</td>\n",
       "      <td>1.315</td>\n",
       "      <td>3.320</td>\n",
       "      <td>1.097</td>\n",
       "      <td>10.552000</td>\n",
       "    </tr>\n",
       "  </tbody>\n",
       "</table>\n",
       "<p>4795 rows × 8 columns</p>\n",
       "</div>"
      ],
      "text/plain": [
       "                   date    HUFL   HULL   MUFL   MULL   LUFL   LULL         OT\n",
       "34      2/07/2016 10:00   9.913  4.957  6.645  3.305  3.046  1.553  20.962999\n",
       "35      2/07/2016 11:00  11.788  5.425  8.173  2.523  3.686  1.675  19.416000\n",
       "36      2/07/2016 12:00   9.645  4.957  6.752  2.132  3.107  1.828  20.823000\n",
       "37      2/07/2016 13:00  10.382  5.760  7.462  2.559  2.985  1.767  20.190001\n",
       "38      2/07/2016 14:00   8.774  4.689  6.112  2.025  2.894  1.919  21.315001\n",
       "...                 ...     ...    ...    ...    ...    ...    ...        ...\n",
       "17229  18/06/2018 21:00  12.927  3.885  9.381  1.741  3.746  1.097  10.200000\n",
       "17230  18/06/2018 22:00  12.056  4.086  8.635  2.132  3.442  1.249  10.130000\n",
       "17231  18/06/2018 23:00  13.329  4.555  7.782  1.670  5.483  1.614  10.271000\n",
       "17394  25/06/2018 18:00   8.841  3.550  5.366  1.777  3.472  1.310  11.185000\n",
       "17395  25/06/2018 19:00   9.511  2.813  6.183  1.315  3.320  1.097  10.552000\n",
       "\n",
       "[4795 rows x 8 columns]"
      ]
     },
     "execution_count": 13,
     "metadata": {},
     "output_type": "execute_result"
    }
   ],
   "source": [
    "data[(data.OT>10) & (data.OT<25) & (data.HUFL>0) & (data.MUFL>4) & (data.MUFL<11)]"
   ]
  },
  {
   "cell_type": "markdown",
   "metadata": {},
   "source": [
    "## Question 7\n",
    "- Print the average of HULL for observations, which has OT value between -5 and 10. \n",
    "- Is this higher than HULL average calculated using the complete dataset?"
   ]
  },
  {
   "cell_type": "code",
   "execution_count": 14,
   "metadata": {},
   "outputs": [
    {
     "name": "stdout",
     "output_type": "stream",
     "text": [
      "Average of HULL for -5 < OT < 10:  2.080304795419493\n",
      "Average of HULL for -5 < OT < 10 is equal to average of HULL for completed dataset:  2.080304795419493\n"
     ]
    }
   ],
   "source": [
    "observations = data[(data.OT>-5) & (data.OT<10)]\n",
    "\n",
    "avg_HULL = observations.HULL.mean()\n",
    "avg_HULL_observations = observations.HULL.mean()\n",
    "\n",
    "print('Average of HULL for -5 < OT < 10: ', avg_HULL_observations)\n",
    "\n",
    "if (avg_HULL_observations > avg_HULL):\n",
    "    print('Average of HULL for -5 < OT < 10 is greater than average of HULL for completed dataset: ', avg_HULL)\n",
    "elif (avg_HULL_observations < avg_HULL):\n",
    "    print('Average of HULL for -5 < OT < 10 is less than average of HULL for completed dataset: ', avg_HULL)\n",
    "else:\n",
    "    print('Average of HULL for -5 < OT < 10 is equal to average of HULL for completed dataset: ', avg_HULL)"
   ]
  },
  {
   "cell_type": "markdown",
   "metadata": {},
   "source": [
    "## Question 8 *\n",
    "- Create and print data frame where OT values are in the range from 1 to 40 with an interval of 5 (Ex. 1-5,\n",
    "6-10..., 36-40)."
   ]
  },
  {
   "cell_type": "code",
   "execution_count": 15,
   "metadata": {},
   "outputs": [],
   "source": [
    "data = pd.read_csv(file)\n",
    "\n",
    "\n"
   ]
  },
  {
   "cell_type": "markdown",
   "metadata": {},
   "source": [
    "## Question 9 *\n",
    "- Continue from [question 8](#question-8). \n",
    "- For each group display the minimum and maximum of all the features except Date and OT."
   ]
  },
  {
   "cell_type": "markdown",
   "metadata": {},
   "source": [
    "## Question 10\n",
    "- Create data frames containing observations recorded in the date range either between January and June or between July and December for individual year (ex: 2016, 2017..etc). \n",
    "- This means there will be two data frames for each year as long as there is one observation that falls in either January-June or July-December date range. \n",
    "- Store the data frames in separate CSV file named ‘year_monthStart_monthEnd.csv’ in the same directory of your code file, where value of ‘month_Start’ is either January or July and value of ‘monthEnd’ is either June or December based on the date range of the corresponding data frame.\n"
   ]
  },
  {
   "cell_type": "code",
   "execution_count": 16,
   "metadata": {},
   "outputs": [],
   "source": [
    "data = pd.read_csv(file)\n",
    "\n",
    "# Convert string to date\n",
    "data.date = pd.to_datetime(data.date)\n",
    "\n",
    "for year in [2016, 2017, 2018]:\n",
    "    split_year_first = data[(data.date > str(year)) & (data.date < '01/07/'+str(year))]\n",
    "    split_year_first.to_csv(f'{str(year)}_jan_jun.csv')\n",
    "\n",
    "    split_year_second = data[(data.date >= '01/07/'+str(year)) & (data.date < str(year+1))]\n",
    "    split_year_second.to_csv(f'{str(year)}_jul_dec.csv')"
   ]
  },
  {
   "cell_type": "markdown",
   "metadata": {},
   "source": [
    "## Question 11\n",
    "- Visualise variations of OT values with respect to other features (one at a time) except ‘date’. \n",
    "- Explain your findings briefly."
   ]
  },
  {
   "cell_type": "markdown",
   "metadata": {},
   "source": [
    "## Question 12\n",
    "- Draw a pie chart summarising number of observations per year."
   ]
  },
  {
   "cell_type": "code",
   "execution_count": 17,
   "metadata": {},
   "outputs": [],
   "source": [
    "data = pd.read_csv(file)\n",
    "\n",
    "data.date = pd.to_datetime(data.date)\n",
    "\n",
    "num_observation = []\n",
    "years = [2016, 2017, 2018]\n",
    "\n",
    "for year in years:\n",
    "    split_year = data[(data.date >= str(year)) & (data.date < '01/01/'+str(year+1))]\n",
    "    num_observation.append(len(split_year))"
   ]
  },
  {
   "cell_type": "code",
   "execution_count": 18,
   "metadata": {},
   "outputs": [
    {
     "data": {
      "text/plain": [
       "<matplotlib.legend.Legend at 0x7fd6ae463d60>"
      ]
     },
     "execution_count": 18,
     "metadata": {},
     "output_type": "execute_result"
    },
    {
     "data": {
      "image/png": "[encoded data removed]",
      "text/plain": [
       "<Figure size 720x720 with 1 Axes>"
      ]
     },
     "metadata": {},
     "output_type": "display_data"
    }
   ],
   "source": [
    "plt.figure(figsize=(10,10))\n",
    "\n",
    "plt.pie(num_observation, labels=num_observation, autopct='%1.1f%%')\n",
    "plt.title('Number of observations per year')\n",
    "plt.legend(years, loc='best')"
   ]
  },
  {
   "cell_type": "markdown",
   "metadata": {},
   "source": [
    "## Question 13\n",
    "- Create histogram of OT values and explain the graph."
   ]
  },
  {
   "cell_type": "code",
   "execution_count": 19,
   "metadata": {},
   "outputs": [
    {
     "data": {
      "text/plain": [
       "(array([  88.,  246., 1013., 2076., 2189., 2695., 1941., 1519., 1475.,\n",
       "        1297.,  882.,  493.,  285.,  284.,  319.,  258.,  174.,  123.,\n",
       "          37.,   26.]),\n",
       " array([-4.07999992, -1.57564993,  0.92870007,  3.43305006,  5.93740005,\n",
       "         8.44175005, 10.94610004, 13.45045004, 15.95480003, 18.45915003,\n",
       "        20.96350002, 23.46785002, 25.97220001, 28.47655001, 30.9809    ,\n",
       "        33.48525   , 35.98959999, 38.49394999, 40.99829998, 43.50264998,\n",
       "        46.00699997]),\n",
       " <BarContainer object of 20 artists>)"
      ]
     },
     "execution_count": 19,
     "metadata": {},
     "output_type": "execute_result"
    },
    {
     "data": {
      "image/png": "[encoded data removed]",
      "text/plain": [
       "<Figure size 720x720 with 1 Axes>"
      ]
     },
     "metadata": {
      "needs_background": "light"
     },
     "output_type": "display_data"
    }
   ],
   "source": [
    "data = pd.read_csv(file)\n",
    "\n",
    "plt.figure(figsize=(10,10))\n",
    "plt.title('Histogram of OT values')\n",
    "plt.hist(data.OT, bins=20)"
   ]
  },
  {
   "cell_type": "markdown",
   "metadata": {},
   "source": [
    "Histogram shows the distribution of value in a dataset.\n",
    "The type of data being measured is represented on the horizontal axis, and the vertical axis represents how many observations are in each bin.\n",
    "\n",
    "In this case, we can see the most common value of the column `OT` in the dataset.\n",
    "From the shape of the histogram plot, we can see that the `OT` data is right-skewed."
   ]
  },
  {
   "cell_type": "markdown",
   "metadata": {},
   "source": [
    "## Question 14\n",
    "- Load the data from supplied data file. \n",
    "- Add three more columns titled `HUFL_HULL`, `MUFL_MULL`, `LUFL_LULL` where, `HUFL_HULL = (HUFL + HULL) / 2`, `MUFL_MULL = (MUFL + MULL) / 2`, and `LUFL_LULL = (LUFL + LULL) / 2`. \n",
    "- Save the updated data frame to a csv file named ‘Average_data.csv’ in the same directory of your code file."
   ]
  },
  {
   "cell_type": "code",
   "execution_count": 20,
   "metadata": {},
   "outputs": [],
   "source": [
    "data = pd.read_csv(file)\n",
    "\n",
    "# Calculate three columns\n",
    "HUFL_HULL = (data.HUFL + data.HULL) / 2\n",
    "MUFL_MULL = (data.MUFL + data.MULL) / 2\n",
    "LUFL_LULL = (data.LUFL + data.LULL) / 2\n",
    "\n",
    "# Add the columns to the dataframe\n",
    "data['HUFL_HULL'] = HUFL_HULL\n",
    "data['MUFL_MULL'] = MUFL_MULL\n",
    "data['LUFL_LULL'] = LUFL_LULL"
   ]
  },
  {
   "cell_type": "code",
   "execution_count": 21,
   "metadata": {},
   "outputs": [],
   "source": [
    "# Export to csv\n",
    "data.to_csv('./Average_data.csv')"
   ]
  },
  {
   "cell_type": "markdown",
   "metadata": {},
   "source": [
    "## Question 15\n",
    "- Continue from question 14. \n",
    "- Drop the row where any of the newly added features value is null.\n",
    "- Finally, display the filtered observations and save to a csv file named ‘Average_clean_data.csv’ in the same directory of your code file."
   ]
  },
  {
   "cell_type": "code",
   "execution_count": 22,
   "metadata": {},
   "outputs": [
    {
     "data": {
      "text/html": [
       "<div>\n",
       "<style scoped>\n",
       "    .dataframe tbody tr th:only-of-type {\n",
       "        vertical-align: middle;\n",
       "    }\n",
       "\n",
       "    .dataframe tbody tr th {\n",
       "        vertical-align: top;\n",
       "    }\n",
       "\n",
       "    .dataframe thead th {\n",
       "        text-align: right;\n",
       "    }\n",
       "</style>\n",
       "<table border=\"1\" class=\"dataframe\">\n",
       "  <thead>\n",
       "    <tr style=\"text-align: right;\">\n",
       "      <th></th>\n",
       "      <th>date</th>\n",
       "      <th>HUFL</th>\n",
       "      <th>HULL</th>\n",
       "      <th>MUFL</th>\n",
       "      <th>MULL</th>\n",
       "      <th>LUFL</th>\n",
       "      <th>LULL</th>\n",
       "      <th>OT</th>\n",
       "      <th>HUFL_HULL</th>\n",
       "      <th>MUFL_MULL</th>\n",
       "      <th>LUFL_LULL</th>\n",
       "    </tr>\n",
       "  </thead>\n",
       "  <tbody>\n",
       "    <tr>\n",
       "      <th>0</th>\n",
       "      <td>1/07/2016 0:00</td>\n",
       "      <td>5.827</td>\n",
       "      <td>2.009</td>\n",
       "      <td>1.599</td>\n",
       "      <td>0.462</td>\n",
       "      <td>4.203</td>\n",
       "      <td>1.340</td>\n",
       "      <td>30.531000</td>\n",
       "      <td>3.9180</td>\n",
       "      <td>1.0305</td>\n",
       "      <td>2.7715</td>\n",
       "    </tr>\n",
       "    <tr>\n",
       "      <th>1</th>\n",
       "      <td>1/07/2016 1:00</td>\n",
       "      <td>5.693</td>\n",
       "      <td>2.076</td>\n",
       "      <td>1.492</td>\n",
       "      <td>0.426</td>\n",
       "      <td>4.142</td>\n",
       "      <td>1.371</td>\n",
       "      <td>27.787001</td>\n",
       "      <td>3.8845</td>\n",
       "      <td>0.9590</td>\n",
       "      <td>2.7565</td>\n",
       "    </tr>\n",
       "    <tr>\n",
       "      <th>2</th>\n",
       "      <td>1/07/2016 2:00</td>\n",
       "      <td>5.157</td>\n",
       "      <td>1.741</td>\n",
       "      <td>1.279</td>\n",
       "      <td>0.355</td>\n",
       "      <td>3.777</td>\n",
       "      <td>1.218</td>\n",
       "      <td>27.787001</td>\n",
       "      <td>3.4490</td>\n",
       "      <td>0.8170</td>\n",
       "      <td>2.4975</td>\n",
       "    </tr>\n",
       "    <tr>\n",
       "      <th>3</th>\n",
       "      <td>1/07/2016 3:00</td>\n",
       "      <td>5.090</td>\n",
       "      <td>1.942</td>\n",
       "      <td>1.279</td>\n",
       "      <td>0.391</td>\n",
       "      <td>3.807</td>\n",
       "      <td>1.279</td>\n",
       "      <td>25.044001</td>\n",
       "      <td>3.5160</td>\n",
       "      <td>0.8350</td>\n",
       "      <td>2.5430</td>\n",
       "    </tr>\n",
       "    <tr>\n",
       "      <th>4</th>\n",
       "      <td>1/07/2016 4:00</td>\n",
       "      <td>5.358</td>\n",
       "      <td>1.942</td>\n",
       "      <td>1.492</td>\n",
       "      <td>0.462</td>\n",
       "      <td>3.868</td>\n",
       "      <td>1.279</td>\n",
       "      <td>21.948000</td>\n",
       "      <td>3.6500</td>\n",
       "      <td>0.9770</td>\n",
       "      <td>2.5735</td>\n",
       "    </tr>\n",
       "    <tr>\n",
       "      <th>...</th>\n",
       "      <td>...</td>\n",
       "      <td>...</td>\n",
       "      <td>...</td>\n",
       "      <td>...</td>\n",
       "      <td>...</td>\n",
       "      <td>...</td>\n",
       "      <td>...</td>\n",
       "      <td>...</td>\n",
       "      <td>...</td>\n",
       "      <td>...</td>\n",
       "      <td>...</td>\n",
       "    </tr>\n",
       "    <tr>\n",
       "      <th>17414</th>\n",
       "      <td>26/06/2018 14:00</td>\n",
       "      <td>-1.273</td>\n",
       "      <td>3.617</td>\n",
       "      <td>-4.904</td>\n",
       "      <td>2.132</td>\n",
       "      <td>3.320</td>\n",
       "      <td>1.432</td>\n",
       "      <td>10.200000</td>\n",
       "      <td>1.1720</td>\n",
       "      <td>-1.3860</td>\n",
       "      <td>2.3760</td>\n",
       "    </tr>\n",
       "    <tr>\n",
       "      <th>17415</th>\n",
       "      <td>26/06/2018 15:00</td>\n",
       "      <td>-1.674</td>\n",
       "      <td>3.550</td>\n",
       "      <td>-5.615</td>\n",
       "      <td>2.132</td>\n",
       "      <td>3.472</td>\n",
       "      <td>1.523</td>\n",
       "      <td>10.904000</td>\n",
       "      <td>0.9380</td>\n",
       "      <td>-1.7415</td>\n",
       "      <td>2.4975</td>\n",
       "    </tr>\n",
       "    <tr>\n",
       "      <th>17417</th>\n",
       "      <td>26/06/2018 17:00</td>\n",
       "      <td>2.813</td>\n",
       "      <td>3.818</td>\n",
       "      <td>-0.817</td>\n",
       "      <td>2.097</td>\n",
       "      <td>3.716</td>\n",
       "      <td>1.523</td>\n",
       "      <td>10.271000</td>\n",
       "      <td>3.3155</td>\n",
       "      <td>0.6400</td>\n",
       "      <td>2.6195</td>\n",
       "    </tr>\n",
       "    <tr>\n",
       "      <th>17418</th>\n",
       "      <td>26/06/2018 18:00</td>\n",
       "      <td>9.243</td>\n",
       "      <td>3.818</td>\n",
       "      <td>5.472</td>\n",
       "      <td>2.097</td>\n",
       "      <td>3.655</td>\n",
       "      <td>1.432</td>\n",
       "      <td>9.778000</td>\n",
       "      <td>6.5305</td>\n",
       "      <td>3.7845</td>\n",
       "      <td>2.5435</td>\n",
       "    </tr>\n",
       "    <tr>\n",
       "      <th>17419</th>\n",
       "      <td>26/06/2018 19:00</td>\n",
       "      <td>10.114</td>\n",
       "      <td>3.550</td>\n",
       "      <td>6.183</td>\n",
       "      <td>1.564</td>\n",
       "      <td>3.716</td>\n",
       "      <td>1.462</td>\n",
       "      <td>9.567000</td>\n",
       "      <td>6.8320</td>\n",
       "      <td>3.8735</td>\n",
       "      <td>2.5890</td>\n",
       "    </tr>\n",
       "  </tbody>\n",
       "</table>\n",
       "<p>17413 rows × 11 columns</p>\n",
       "</div>"
      ],
      "text/plain": [
       "                   date    HUFL   HULL   MUFL   MULL   LUFL   LULL         OT  \\\n",
       "0        1/07/2016 0:00   5.827  2.009  1.599  0.462  4.203  1.340  30.531000   \n",
       "1        1/07/2016 1:00   5.693  2.076  1.492  0.426  4.142  1.371  27.787001   \n",
       "2        1/07/2016 2:00   5.157  1.741  1.279  0.355  3.777  1.218  27.787001   \n",
       "3        1/07/2016 3:00   5.090  1.942  1.279  0.391  3.807  1.279  25.044001   \n",
       "4        1/07/2016 4:00   5.358  1.942  1.492  0.462  3.868  1.279  21.948000   \n",
       "...                 ...     ...    ...    ...    ...    ...    ...        ...   \n",
       "17414  26/06/2018 14:00  -1.273  3.617 -4.904  2.132  3.320  1.432  10.200000   \n",
       "17415  26/06/2018 15:00  -1.674  3.550 -5.615  2.132  3.472  1.523  10.904000   \n",
       "17417  26/06/2018 17:00   2.813  3.818 -0.817  2.097  3.716  1.523  10.271000   \n",
       "17418  26/06/2018 18:00   9.243  3.818  5.472  2.097  3.655  1.432   9.778000   \n",
       "17419  26/06/2018 19:00  10.114  3.550  6.183  1.564  3.716  1.462   9.567000   \n",
       "\n",
       "       HUFL_HULL  MUFL_MULL  LUFL_LULL  \n",
       "0         3.9180     1.0305     2.7715  \n",
       "1         3.8845     0.9590     2.7565  \n",
       "2         3.4490     0.8170     2.4975  \n",
       "3         3.5160     0.8350     2.5430  \n",
       "4         3.6500     0.9770     2.5735  \n",
       "...          ...        ...        ...  \n",
       "17414     1.1720    -1.3860     2.3760  \n",
       "17415     0.9380    -1.7415     2.4975  \n",
       "17417     3.3155     0.6400     2.6195  \n",
       "17418     6.5305     3.7845     2.5435  \n",
       "17419     6.8320     3.8735     2.5890  \n",
       "\n",
       "[17413 rows x 11 columns]"
      ]
     },
     "metadata": {},
     "output_type": "display_data"
    }
   ],
   "source": [
    "clean_null = data.dropna(axis = 0, how = 'any')\n",
    "\n",
    "display(clean_null)"
   ]
  },
  {
   "cell_type": "code",
   "execution_count": 23,
   "metadata": {},
   "outputs": [],
   "source": [
    "clean_null.to_csv('./Average_clean_data.csv')"
   ]
  }
 ],
 "metadata": {
  "interpreter": {
   "hash": "b0dea77f4f833515ac4cd6c116b18e7943ec0172ef1faa86df598b7bde739f71"
  },
  "kernelspec": {
   "display_name": "Python 3.10.4 ('SIT720-MachineLearning-Szm3lgNd')",
   "language": "python",
   "name": "python3"
  },
  "language_info": {
   "codemirror_mode": {
    "name": "ipython",
    "version": 3
   },
   "file_extension": ".py",
   "mimetype": "text/x-python",
   "name": "python",
   "nbconvert_exporter": "python",
   "pygments_lexer": "ipython3",
   "version": "3.10.4"
  },
  "orig_nbformat": 4
 },
 "nbformat": 4,
 "nbformat_minor": 2
}
