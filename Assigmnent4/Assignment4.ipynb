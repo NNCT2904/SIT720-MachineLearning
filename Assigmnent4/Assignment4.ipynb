{
 "cells": [
  {
   "cell_type": "code",
   "execution_count": 98,
   "metadata": {},
   "outputs": [],
   "source": [
    "import csv\n",
    "import pandas as pd\n",
    "import numpy as np\n",
    "import matplotlib.pyplot as plt\n",
    "\n",
    "from sklearn.neighbors import KNeighborsClassifier\n",
    "from sklearn.ensemble import RandomForestClassifier, BaggingClassifier, ExtraTreesClassifier, VotingClassifier\n",
    "from sklearn.tree import DecisionTreeClassifier\n",
    "from sklearn import svm\n",
    "from sklearn.linear_model import Lasso, Ridge, LinearRegression, SGDClassifier\n",
    "from sklearn.model_selection import train_test_split, KFold, cross_val_score, cross_validate, GridSearchCV, RandomizedSearchCV, RepeatedKFold\n",
    "from sklearn.metrics import accuracy_score, precision_score, make_scorer, recall_score, f1_score, confusion_matrix, classification_report\n",
    "from imblearn.metrics import geometric_mean_score\n",
    "from sklearn.utils import resample\n",
    "\n",
    "from IPython.display import clear_output"
   ]
  },
  {
   "cell_type": "code",
   "execution_count": 2,
   "metadata": {},
   "outputs": [],
   "source": [
    "plt.rcParams['figure.dpi'] = 300\n",
    "plt.rcParams['savefig.dpi'] = 300"
   ]
  },
  {
   "cell_type": "code",
   "execution_count": 3,
   "metadata": {},
   "outputs": [],
   "source": [
    "file = 'Intrusion_detection_NSL_KDD.csv'\n",
    "data = pd.read_csv(file)"
   ]
  },
  {
   "cell_type": "code",
   "execution_count": 118,
   "metadata": {},
   "outputs": [],
   "source": [
    "def K_fold_cross_validation(clf, X, y, cv=10):\n",
    "    _scoring = {\n",
    "        'accuracy': make_scorer(accuracy_score),\n",
    "        'precision': make_scorer(precision_score, average='micro'),\n",
    "        'recall': make_scorer(recall_score, average='micro'),\n",
    "        'geometric_mean_score': make_scorer(geometric_mean_score, average='micro', greater_is_better=True),\n",
    "        'f1': make_scorer(f1_score, average='micro'),\n",
    "    }\n",
    "\n",
    "    cross_linearSVC = cross_validate(\n",
    "        estimator=clf, \n",
    "        X=X, \n",
    "        y=y, \n",
    "        cv=cv, \n",
    "        scoring=_scoring,\n",
    "        return_train_score=False,\n",
    "        n_jobs=-1\n",
    "        )\n",
    "\n",
    "    accuracy = [max(cross_linearSVC['test_accuracy']), cross_linearSVC['test_accuracy'].mean(), cross_linearSVC['test_accuracy'].std()]\n",
    "    precision = [max(cross_linearSVC['test_precision']), cross_linearSVC['test_precision'].mean(), cross_linearSVC['test_precision'].std()]\n",
    "    recall = [max(cross_linearSVC['test_recall']), cross_linearSVC['test_recall'].mean(), cross_linearSVC['test_recall'].std()]\n",
    "    gmean = [max(cross_linearSVC['test_geometric_mean_score']), cross_linearSVC['test_geometric_mean_score'].mean(), cross_linearSVC['test_geometric_mean_score'].std()]\n",
    "    f1 = [max(cross_linearSVC['test_f1']), cross_linearSVC['test_f1'].mean(), cross_linearSVC['test_f1'].std()]\n",
    "\n",
    "    data = {'accuracy': accuracy, 'precision': precision, 'recall': recall, 'geo mean': gmean, 'f1': f1}\n",
    "    df = pd.DataFrame(data, index=['best', 'mean', 'std'])\n",
    "\n",
    "    return cross_linearSVC, df\n",
    "\n",
    "\n",
    "def K_fold_times(clf, X, y, cv=10, times=100):\n",
    "    cross_val_res = []\n",
    "    for i in range(times):\n",
    "        clear_output(wait=True)\n",
    "        cross_val, df = K_fold_cross_validation(clf, X, y, cv)\n",
    "        cross_val_res.append(cross_val)\n",
    "        print('Iteration: ', i)\n",
    "    return cross_val_res\n",
    "\n",
    "    "
   ]
  },
  {
   "cell_type": "code",
   "execution_count": 117,
   "metadata": {},
   "outputs": [],
   "source": [
    "def post_process(KFold_result): \n",
    "    acc = []\n",
    "    pre = []\n",
    "    rec = []\n",
    "    gmean = []\n",
    "    f1 = []\n",
    "    for data in KFold_result:\n",
    "        acc = np.append(acc, data['test_accuracy'])\n",
    "        pre = np.append(pre, data['test_precision'])\n",
    "        rec = np.append(rec, data['test_recall'])\n",
    "        gmean = np.append(gmean, data['test_geometric_mean_score'])\n",
    "        f1 = np.append(f1, data['test_f1'])\n",
    "\n",
    "    data = {\n",
    "        'accuracy': [max(acc), acc.mean(), acc.std()], \n",
    "        'precision': [max(pre), pre.mean(), pre.std()], \n",
    "        'recall': [max(rec), rec.mean(), rec.std()], \n",
    "        'geo mean': [max(gmean), gmean.mean(), gmean.std()],\n",
    "        'f1': [max(f1), f1.mean(), f1.std()],\n",
    "    }\n",
    "\n",
    "    df = pd.DataFrame(data, index=['best', 'mean', 'std'])\n",
    "\n",
    "    return df"
   ]
  },
  {
   "cell_type": "markdown",
   "metadata": {},
   "source": [
    "## Question 1"
   ]
  },
  {
   "cell_type": "code",
   "execution_count": 4,
   "metadata": {},
   "outputs": [
    {
     "data": {
      "text/plain": [
       "array([['apache2', 'back', 'buffer_overflow', 'ftp_write',\n",
       "        'guess_passwd', 'httptunnel', 'imap', 'ipsweep', 'land',\n",
       "        'loadmodule', 'mailbomb', 'mscan', 'multihop', 'named',\n",
       "        'neptune', 'nmap', 'normal', 'perl', 'phf', 'pod', 'portsweep',\n",
       "        'processtable', 'ps', 'rootkit', 'saint', 'satan', 'sendmail',\n",
       "        'smurf', 'snmpgetattack', 'snmpguess', 'spy', 'sqlattack',\n",
       "        'teardrop', 'udpstorm', 'warezclient', 'warezmaster', 'worm',\n",
       "        'xlock', 'xsnoop', 'xterm']], dtype=object)"
      ]
     },
     "execution_count": 4,
     "metadata": {},
     "output_type": "execute_result"
    }
   ],
   "source": [
    "np.sort([data['attack_type'].unique()])"
   ]
  },
  {
   "cell_type": "code",
   "execution_count": 5,
   "metadata": {},
   "outputs": [],
   "source": [
    "# Data Preprocessing\n",
    "# where is mail bomb?\n",
    "\n",
    "Attack_Class = {\n",
    "    'dos': ['apache2', 'back', 'pod', 'processtable', 'worm', 'neptune', 'smurf', 'land', 'udpstorm', 'teardrop'],\n",
    "    'probe': ['satan', 'ipsweep', 'nmap', 'portsweep', 'mscan', 'saint'],\n",
    "    'r2l' : ['guess_passwd', 'ftp_write', 'imap', 'phf', 'multihop', 'warezmaster', 'warezclient', 'spy', 'xlock', 'xsnoop', 'snmpguess', 'snmpgetattack', 'httptunnel', 'sendmail', 'named'],\n",
    "    'u2r': ['buffer_overflow', 'xterm','sqlattack','perl', 'loadmodule', 'ps','rootkit'],\n",
    "}"
   ]
  },
  {
   "cell_type": "code",
   "execution_count": 6,
   "metadata": {},
   "outputs": [],
   "source": [
    "data['attack_class'] = data['attack_type'].map(lambda x: 'dos' if x in Attack_Class['dos'] else 'probe' if x in Attack_Class['probe'] else 'r2l' if x in Attack_Class['r2l'] else 'u2r' if x in Attack_Class['u2r'] else 'normal')"
   ]
  },
  {
   "cell_type": "code",
   "execution_count": 8,
   "metadata": {},
   "outputs": [
    {
     "data": {
      "text/plain": [
       "normal    77345\n",
       "dos       53093\n",
       "probe     14077\n",
       "r2l        3880\n",
       "u2r         119\n",
       "Name: attack_class, dtype: int64"
      ]
     },
     "execution_count": 8,
     "metadata": {},
     "output_type": "execute_result"
    }
   ],
   "source": [
    "data['attack_class'].value_counts()"
   ]
  },
  {
   "cell_type": "code",
   "execution_count": 20,
   "metadata": {},
   "outputs": [],
   "source": [
    "if 'attack_type' in data.columns:   \n",
    "    data = data.drop(['attack_type'], axis=1)\n",
    "\n",
    "data_dummy = pd.get_dummies(data = data, columns = ['protocol_type', 'service', 'flag'])"
   ]
  },
  {
   "cell_type": "code",
   "execution_count": 29,
   "metadata": {},
   "outputs": [],
   "source": [
    "data_normal = data_dummy.loc[data_dummy['attack_class'] == 'normal']\n",
    "data_dos = data_dummy.loc[data_dummy['attack_class'] == 'dos']\n",
    "data_probe = data_dummy.loc[data_dummy['attack_class'] == 'probe']\n",
    "data_r2l = data_dummy.loc[data_dummy['attack_class'] == 'r2l']\n",
    "data_u2r = data_dummy.loc[data_dummy['attack_class'] == 'u2r']"
   ]
  },
  {
   "cell_type": "markdown",
   "metadata": {},
   "source": [
    "### Step 1 \n",
    "A certain amount of sample data was taken from each data set. Empty lines in some data sets have been removed. "
   ]
  },
  {
   "cell_type": "code",
   "execution_count": 11,
   "metadata": {},
   "outputs": [],
   "source": [
    "## wacky way to get the data\n",
    "# X_train_1, X_test_1, y_train_1, y_test_1 = train_test_split(data_normal.drop(['attack_class'], axis=1), data_normal['attack_class'], test_size=0.911, random_state=42)\n",
    "# X_train_2, X_test_2, y_train_2, y_test_2 = train_test_split(data_dos.drop(['attack_class'], axis=1), data_dos['attack_class'], test_size=0.781, random_state=42)\n",
    "# X_train_3, X_test_3, y_train_3, y_test_3 = train_test_split(data_probe.drop(['attack_class'], axis=1), data_probe['attack_class'], test_size=0.929, random_state=42)\n",
    "# X_train_4, X_test_4, y_train_4, y_test_4 = train_test_split(data_r2l.drop(['attack_class'], axis=1), data_r2l['attack_class'], test_size=0.204, random_state=42)\n",
    "# X_train_5, X_test_5, y_train_5, y_test_5 = train_test_split(data_u2r.drop(['attack_class'], axis=1), data_u2r['attack_class'], test_size=0.554, random_state=42)"
   ]
  },
  {
   "cell_type": "code",
   "execution_count": 30,
   "metadata": {},
   "outputs": [],
   "source": [
    "X_train_1, X_test_1, y_train_1, y_test_1 = train_test_split(data_normal.drop(['attack_class'], axis=1), data_normal['attack_class'], test_size=0.3, random_state=42)\n",
    "X_train_2, X_test_2, y_train_2, y_test_2 = train_test_split(data_dos.drop(['attack_class'], axis=1), data_dos['attack_class'], test_size=0.3, random_state=42)\n",
    "X_train_3, X_test_3, y_train_3, y_test_3 = train_test_split(data_probe.drop(['attack_class'], axis=1), data_probe['attack_class'], test_size=0.3, random_state=42)\n",
    "X_train_4, X_test_4, y_train_4, y_test_4 = train_test_split(data_r2l.drop(['attack_class'], axis=1), data_r2l['attack_class'], test_size=0.3, random_state=42)\n",
    "X_train_5, X_test_5, y_train_5, y_test_5 = train_test_split(data_u2r.drop(['attack_class'], axis=1), data_u2r['attack_class'], test_size=0.3, random_state=42)"
   ]
  },
  {
   "cell_type": "code",
   "execution_count": 31,
   "metadata": {},
   "outputs": [],
   "source": [
    "X_train = pd.concat([X_train_1, X_train_2, X_train_3, X_train_4, X_train_5])\n",
    "X_test = pd.concat([X_test_1, X_test_2, X_test_3, X_test_4, X_test_5])\n",
    "y_train = pd.concat([y_train_1, y_train_2, y_train_3, y_train_4, y_train_5])\n",
    "y_test = pd.concat([y_test_1, y_test_2, y_test_3, y_test_4, y_test_5])"
   ]
  },
  {
   "cell_type": "markdown",
   "metadata": {},
   "source": [
    "### Step 2\n",
    "The data sets obtained are normalized with the min-max normalization."
   ]
  },
  {
   "cell_type": "code",
   "execution_count": 19,
   "metadata": {},
   "outputs": [
    {
     "data": {
      "text/plain": [
       "Index(['attack_class'], dtype='object')"
      ]
     },
     "execution_count": 19,
     "metadata": {},
     "output_type": "execute_result"
    }
   ],
   "source": [
    "data_dummy.select_dtypes(include=['object']).columns"
   ]
  },
  {
   "cell_type": "code",
   "execution_count": 33,
   "metadata": {},
   "outputs": [],
   "source": [
    "from sklearn.preprocessing import MinMaxScaler\n",
    "\n",
    "scaler = MinMaxScaler()\n",
    "\n",
    "X_train_scale = scaler.fit_transform(X_train)\n",
    "X_test_scale = scaler.transform(X_test)\n",
    "\n",
    "X = scaler.fit_transform(data_dummy.drop(['attack_class'], axis=1))\n",
    "y = data_dummy['attack_class']\n"
   ]
  },
  {
   "cell_type": "markdown",
   "metadata": {},
   "source": [
    "### Step 3\n",
    "The data sets are classified with SVM, KNN and DT machine learning methods"
   ]
  },
  {
   "cell_type": "code",
   "execution_count": 99,
   "metadata": {},
   "outputs": [],
   "source": [
    "def K_fold_cross_validation(clf, X, y, cv=10):\n",
    "    _scoring = {\n",
    "        'accuracy': make_scorer(accuracy_score),\n",
    "        'precision': make_scorer(precision_score, average='micro'),\n",
    "        'recall': make_scorer(recall_score, average='micro'),\n",
    "        'geometric_mean_score': make_scorer(geometric_mean_score, average='micro', greater_is_better=True),\n",
    "        'f1': make_scorer(f1_score, average='micro'),\n",
    "    }\n",
    "\n",
    "    cross = cross_validate(\n",
    "        estimator=clf, \n",
    "        X=X, \n",
    "        y=y, \n",
    "        cv=cv, \n",
    "        scoring=_scoring,\n",
    "        return_train_score=False,\n",
    "        n_jobs=-1\n",
    "        )\n",
    "\n",
    "    accuracy = [max(cross['test_accuracy']), cross['test_accuracy'].mean(), cross['test_accuracy'].std()]\n",
    "    precision = [max(cross['test_precision']), cross['test_precision'].mean(), cross['test_precision'].std()]\n",
    "    recall = [max(cross['test_recall']), cross['test_recall'].mean(), cross['test_recall'].std()]\n",
    "    gmean = [max(cross['test_geometric_mean_score']), cross['test_geometric_mean_score'].mean(), cross['test_geometric_mean_score'].std()]\n",
    "    f1 = [max(cross['test_f1']), cross['test_f1'].mean(), cross['test_f1'].std()]\n",
    "\n",
    "    data = {'accuracy': accuracy, 'precision': precision, 'recall': recall, 'geo mean': gmean, 'f1': f1}\n",
    "    df = pd.DataFrame(data, index=['best', 'mean', 'std'])\n",
    "\n",
    "    return cross, df\n",
    "\n",
    "\n",
    "def K_fold_times(clf, X, y, cv=10, times=100):\n",
    "    cross_val_res = []\n",
    "    for i in range(times):\n",
    "        clear_output(wait=True)\n",
    "        cross_val, df = K_fold_cross_validation(clf, X, y, cv)\n",
    "        cross_val_res.append(cross_val)\n",
    "        print('Iteration: ', i)\n",
    "    return cross_val_res\n",
    "\n",
    "    "
   ]
  },
  {
   "cell_type": "code",
   "execution_count": 100,
   "metadata": {},
   "outputs": [
    {
     "name": "stdout",
     "output_type": "stream",
     "text": [
      "Iteration:  99\n"
     ]
    }
   ],
   "source": [
    "# SVM Classifier\n",
    "\n",
    "svm_linearSVC_clf = svm.LinearSVC()\n",
    "cv = KFold(n_splits=10, shuffle=True)\n",
    "result_linearSVC = K_fold_times(svm_linearSVC_clf, X, y, cv = cv,times=100)"
   ]
  },
  {
   "cell_type": "code",
   "execution_count": 119,
   "metadata": {},
   "outputs": [
    {
     "data": {
      "text/html": [
       "<div>\n",
       "<style scoped>\n",
       "    .dataframe tbody tr th:only-of-type {\n",
       "        vertical-align: middle;\n",
       "    }\n",
       "\n",
       "    .dataframe tbody tr th {\n",
       "        vertical-align: top;\n",
       "    }\n",
       "\n",
       "    .dataframe thead th {\n",
       "        text-align: right;\n",
       "    }\n",
       "</style>\n",
       "<table border=\"1\" class=\"dataframe\">\n",
       "  <thead>\n",
       "    <tr style=\"text-align: right;\">\n",
       "      <th></th>\n",
       "      <th>accuracy</th>\n",
       "      <th>precision</th>\n",
       "      <th>recall</th>\n",
       "      <th>geo mean</th>\n",
       "      <th>f1</th>\n",
       "    </tr>\n",
       "  </thead>\n",
       "  <tbody>\n",
       "    <tr>\n",
       "      <th>best</th>\n",
       "      <td>0.967344</td>\n",
       "      <td>0.967344</td>\n",
       "      <td>0.967344</td>\n",
       "      <td>0.979514</td>\n",
       "      <td>0.967344</td>\n",
       "    </tr>\n",
       "    <tr>\n",
       "      <th>mean</th>\n",
       "      <td>0.963258</td>\n",
       "      <td>0.963258</td>\n",
       "      <td>0.963258</td>\n",
       "      <td>0.976939</td>\n",
       "      <td>0.963258</td>\n",
       "    </tr>\n",
       "    <tr>\n",
       "      <th>std</th>\n",
       "      <td>0.001494</td>\n",
       "      <td>0.001494</td>\n",
       "      <td>0.001494</td>\n",
       "      <td>0.000941</td>\n",
       "      <td>0.001494</td>\n",
       "    </tr>\n",
       "  </tbody>\n",
       "</table>\n",
       "</div>"
      ],
      "text/plain": [
       "      accuracy  precision    recall  geo mean        f1\n",
       "best  0.967344   0.967344  0.967344  0.979514  0.967344\n",
       "mean  0.963258   0.963258  0.963258  0.976939  0.963258\n",
       "std   0.001494   0.001494  0.001494  0.000941  0.001494"
      ]
     },
     "execution_count": 119,
     "metadata": {},
     "output_type": "execute_result"
    }
   ],
   "source": [
    "post_process(result_linearSVC)"
   ]
  },
  {
   "cell_type": "code",
   "execution_count": 120,
   "metadata": {},
   "outputs": [
    {
     "name": "stdout",
     "output_type": "stream",
     "text": [
      "Iteration:  9\n"
     ]
    }
   ],
   "source": [
    "svm_quad = svm.SVC(kernel='poly', degree=2)\n",
    "cv = KFold(n_splits=10, shuffle=True)\n",
    "result_svm_quad = K_fold_times(svm_quad, X, y, cv = cv,times=100)\n",
    "post_process(result_svm_quad)"
   ]
  },
  {
   "cell_type": "code",
   "execution_count": null,
   "metadata": {},
   "outputs": [
    {
     "name": "stdout",
     "output_type": "stream",
     "text": [
      "              precision    recall  f1-score   support\n",
      "\n",
      "         dos       1.00      0.98      0.99     26547\n",
      "      normal       0.97      0.98      0.98     38673\n",
      "       probe       0.98      0.98      0.98      7039\n",
      "         r2l       0.81      0.84      0.82      1940\n",
      "         u2r       0.65      0.47      0.54        60\n",
      "\n",
      "    accuracy                           0.98     74259\n",
      "   macro avg       0.88      0.85      0.86     74259\n",
      "weighted avg       0.98      0.98      0.98     74259\n",
      "\n"
     ]
    }
   ],
   "source": [
    "svm_cube = svm.SVC(kernel='poly', degree=3)\n",
    "cv = KFold(n_splits=10, shuffle=True)\n",
    "result_svm_cube = K_fold_times(svm_cube, X, y, cv = cv,times=100)\n",
    "post_process(result_svm_cube)"
   ]
  },
  {
   "cell_type": "code",
   "execution_count": null,
   "metadata": {},
   "outputs": [
    {
     "name": "stdout",
     "output_type": "stream",
     "text": [
      "              precision    recall  f1-score   support\n",
      "\n",
      "         dos       1.00      1.00      1.00     26547\n",
      "      normal       0.99      0.99      0.99     38673\n",
      "       probe       0.99      0.98      0.99      7039\n",
      "         r2l       0.89      0.86      0.88      1940\n",
      "         u2r       0.55      0.60      0.58        60\n",
      "\n",
      "    accuracy                           0.99     74259\n",
      "   macro avg       0.88      0.89      0.89     74259\n",
      "weighted avg       0.99      0.99      0.99     74259\n",
      "\n"
     ]
    }
   ],
   "source": [
    "knn_fine = KNeighborsClassifier(n_neighbors=1)\n",
    "cv = KFold(n_splits=10, shuffle=True)\n",
    "result_knn_fine = K_fold_times(knn_fine, X, y, cv = cv,times=100)\n",
    "post_process(result_knn_fine)"
   ]
  },
  {
   "cell_type": "code",
   "execution_count": null,
   "metadata": {},
   "outputs": [
    {
     "name": "stdout",
     "output_type": "stream",
     "text": [
      "              precision    recall  f1-score   support\n",
      "\n",
      "         dos       0.99      1.00      0.99     26547\n",
      "      normal       0.99      0.99      0.99     38673\n",
      "       probe       0.99      0.97      0.98      7039\n",
      "         r2l       0.90      0.83      0.87      1940\n",
      "         u2r       0.58      0.47      0.52        60\n",
      "\n",
      "    accuracy                           0.98     74259\n",
      "   macro avg       0.89      0.85      0.87     74259\n",
      "weighted avg       0.98      0.98      0.98     74259\n",
      "\n"
     ]
    }
   ],
   "source": [
    "knn_med = KNeighborsClassifier(n_neighbors=10)\n",
    "cv = KFold(n_splits=10, shuffle=True)\n",
    "result_knn_med = K_fold_times(knn_med, X, y, cv = cv,times=100)\n",
    "post_process(result_knn_med)"
   ]
  },
  {
   "cell_type": "code",
   "execution_count": null,
   "metadata": {},
   "outputs": [
    {
     "name": "stdout",
     "output_type": "stream",
     "text": [
      "              precision    recall  f1-score   support\n",
      "\n",
      "         dos       0.99      1.00      0.99     26547\n",
      "      normal       0.99      0.99      0.99     38673\n",
      "       probe       0.99      0.97      0.98      7039\n",
      "         r2l       0.90      0.85      0.87      1940\n",
      "         u2r       0.65      0.50      0.57        60\n",
      "\n",
      "    accuracy                           0.99     74259\n",
      "   macro avg       0.90      0.86      0.88     74259\n",
      "weighted avg       0.99      0.99      0.99     74259\n",
      "\n"
     ]
    }
   ],
   "source": [
    "knn_cubic = KNeighborsClassifier(p=3)\n",
    "cv = KFold(n_splits=10, shuffle=True)\n",
    "result_knn_cubic = K_fold_times(knn_cubic, X, y, cv = cv,times=100)\n",
    "post_process(result_knn_cubic)"
   ]
  },
  {
   "cell_type": "code",
   "execution_count": null,
   "metadata": {},
   "outputs": [
    {
     "name": "stdout",
     "output_type": "stream",
     "text": [
      "              precision    recall  f1-score   support\n",
      "\n",
      "         dos       1.00      0.98      0.99     26547\n",
      "      normal       0.97      0.99      0.98     38673\n",
      "       probe       0.98      0.98      0.98      7039\n",
      "         r2l       0.91      0.86      0.88      1940\n",
      "         u2r       0.58      0.18      0.28        60\n",
      "\n",
      "    accuracy                           0.98     74259\n",
      "   macro avg       0.89      0.80      0.82     74259\n",
      "weighted avg       0.98      0.98      0.98     74259\n",
      "\n"
     ]
    }
   ],
   "source": [
    "tree_fine = DecisionTreeClassifier(max_leaf_nodes = 100)\n",
    "cv = KFold(n_splits=10, shuffle=True)\n",
    "result_tree_fine = K_fold_times(tree_fine, X, y, cv = cv,times=100)\n",
    "post_process(result_tree_fine)"
   ]
  },
  {
   "cell_type": "code",
   "execution_count": null,
   "metadata": {},
   "outputs": [
    {
     "name": "stderr",
     "output_type": "stream",
     "text": [
      "/home/ncng/.local/share/virtualenvs/SIT720-MachineLearning-Szm3lgNd/lib/python3.10/site-packages/sklearn/metrics/_classification.py:1334: UndefinedMetricWarning: Precision and F-score are ill-defined and being set to 0.0 in labels with no predicted samples. Use `zero_division` parameter to control this behavior.\n",
      "  _warn_prf(average, modifier, msg_start, len(result))\n",
      "/home/ncng/.local/share/virtualenvs/SIT720-MachineLearning-Szm3lgNd/lib/python3.10/site-packages/sklearn/metrics/_classification.py:1334: UndefinedMetricWarning: Precision and F-score are ill-defined and being set to 0.0 in labels with no predicted samples. Use `zero_division` parameter to control this behavior.\n",
      "  _warn_prf(average, modifier, msg_start, len(result))\n"
     ]
    },
    {
     "name": "stdout",
     "output_type": "stream",
     "text": [
      "              precision    recall  f1-score   support\n",
      "\n",
      "         dos       0.98      0.97      0.97     26547\n",
      "      normal       0.93      0.98      0.96     38673\n",
      "       probe       0.91      0.91      0.91      7039\n",
      "         r2l       0.81      0.30      0.43      1940\n",
      "         u2r       0.00      0.00      0.00        60\n",
      "\n",
      "    accuracy                           0.95     74259\n",
      "   macro avg       0.73      0.63      0.65     74259\n",
      "weighted avg       0.95      0.95      0.94     74259\n",
      "\n"
     ]
    },
    {
     "name": "stderr",
     "output_type": "stream",
     "text": [
      "/home/ncng/.local/share/virtualenvs/SIT720-MachineLearning-Szm3lgNd/lib/python3.10/site-packages/sklearn/metrics/_classification.py:1334: UndefinedMetricWarning: Precision and F-score are ill-defined and being set to 0.0 in labels with no predicted samples. Use `zero_division` parameter to control this behavior.\n",
      "  _warn_prf(average, modifier, msg_start, len(result))\n"
     ]
    }
   ],
   "source": [
    "tree_med = DecisionTreeClassifier(max_leaf_nodes = 20)\n",
    "cv = KFold(n_splits=10, shuffle=True)\n",
    "result_tree_med = K_fold_times(tree_med, X, y, cv = cv,times=100)\n",
    "post_process(result_tree_med)"
   ]
  },
  {
   "cell_type": "markdown",
   "metadata": {},
   "source": [
    "[1]. Mahfouz, A. M., Venugopal, D., & Shiva, S. G. (2020). Comparative analysis of ML classifiers for network intrusion detection. In Fourth international congress on information and communication technology (pp. 193-207). Springer, Singapore.\n",
    "\n",
    "[2]. Dhanabal, L., & Shantharajah, S. P. (2015). A study on NSL-KDD dataset for intrusion detection system based on classification algorithms. International journal of advanced research in computer and communication engineering, 4(6), 446-452.\n",
    "\n",
    "[3]. Johnson, J. M., & Yadav, A. (2018). Fault detection and classification technique for HVDC transmission lines using KNN. In Information and communication technology for sustainable development (pp. 245-253). Springer, Singapore."
   ]
  }
 ],
 "metadata": {
  "kernelspec": {
   "display_name": "Python 3 (ipykernel)",
   "language": "python",
   "name": "python3"
  },
  "language_info": {
   "codemirror_mode": {
    "name": "ipython",
    "version": 3
   },
   "file_extension": ".py",
   "mimetype": "text/x-python",
   "name": "python",
   "nbconvert_exporter": "python",
   "pygments_lexer": "ipython3",
   "version": "3.10.4"
  },
  "vscode": {
   "interpreter": {
    "hash": "b0dea77f4f833515ac4cd6c116b18e7943ec0172ef1faa86df598b7bde739f71"
   }
  }
 },
 "nbformat": 4,
 "nbformat_minor": 4
}
