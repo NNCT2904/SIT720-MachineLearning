{
 "cells": [
  {
   "cell_type": "code",
   "execution_count": 283,
   "metadata": {},
   "outputs": [],
   "source": [
    "import csv\n",
    "import pandas as pd\n",
    "import numpy as np\n",
    "import matplotlib.pyplot as plt\n",
    "\n",
    "from numpy import random\n",
    "\n",
    "from sklearn.neighbors import KNeighborsClassifier\n",
    "from sklearn.ensemble import RandomForestClassifier, BaggingClassifier, ExtraTreesClassifier, VotingClassifier\n",
    "from sklearn.tree import DecisionTreeClassifier\n",
    "from sklearn import svm\n",
    "from sklearn.linear_model import Lasso, Ridge, LinearRegression, SGDClassifier\n",
    "from sklearn.model_selection import train_test_split, KFold, cross_val_score, cross_validate, GridSearchCV, RandomizedSearchCV, RepeatedKFold\n",
    "from sklearn.metrics import accuracy_score, precision_score, make_scorer, recall_score, f1_score, confusion_matrix, classification_report\n",
    "from imblearn.metrics import geometric_mean_score\n",
    "from sklearn.utils import resample\n",
    "\n",
    "from IPython.display import clear_output"
   ]
  },
  {
   "cell_type": "code",
   "execution_count": 284,
   "metadata": {},
   "outputs": [],
   "source": [
    "plt.rcParams['figure.dpi'] = 300\n",
    "plt.rcParams['savefig.dpi'] = 300"
   ]
  },
  {
   "cell_type": "code",
   "execution_count": 285,
   "metadata": {},
   "outputs": [],
   "source": [
    "file = 'Intrusion_detection_NSL_KDD.csv'\n",
    "data = pd.read_csv(file)"
   ]
  },
  {
   "cell_type": "code",
   "execution_count": 301,
   "metadata": {},
   "outputs": [],
   "source": [
    "def K_fold_cross_validation(clf, X, y, cv=10):\n",
    "    _scoring = {\n",
    "        'accuracy': make_scorer(accuracy_score),\n",
    "        'precision': make_scorer(precision_score, average='micro'),\n",
    "        'recall': make_scorer(recall_score, average='micro'),\n",
    "        'geometric_mean_score': make_scorer(geometric_mean_score, average='micro', greater_is_better=True),\n",
    "        'f1': make_scorer(f1_score, average='micro'),\n",
    "    }\n",
    "\n",
    "    cross = cross_validate(\n",
    "        estimator=clf, \n",
    "        X=X, \n",
    "        y=y, \n",
    "        cv=cv, \n",
    "        scoring=_scoring,\n",
    "        return_train_score=False,\n",
    "        n_jobs=-1\n",
    "        )\n",
    "\n",
    "    return cross\n",
    "\n",
    "\n",
    "def K_fold_times(clf, X, y, cv=10, times=100):\n",
    "    cross_val_res = []\n",
    "    for i in range(times):\n",
    "        clear_output(wait=True)\n",
    "        print('Iteration: ', i+1)\n",
    "        cross_val = K_fold_cross_validation(clf, X, y, cv)\n",
    "        cross_val_res.append(cross_val)\n",
    "        \n",
    "    return cross_val_res\n",
    "\n",
    "    "
   ]
  },
  {
   "cell_type": "code",
   "execution_count": 287,
   "metadata": {},
   "outputs": [],
   "source": [
    "def post_process(KFold_result): \n",
    "    acc = []\n",
    "    pre = []\n",
    "    rec = []\n",
    "    gmean = []\n",
    "    f1 = []\n",
    "    for data in KFold_result:\n",
    "        acc = np.append(acc, data['test_accuracy'])\n",
    "        pre = np.append(pre, data['test_precision'])\n",
    "        rec = np.append(rec, data['test_recall'])\n",
    "        gmean = np.append(gmean, data['test_geometric_mean_score'])\n",
    "        f1 = np.append(f1, data['test_f1'])\n",
    "\n",
    "    data = {\n",
    "        'accuracy': [max(acc), acc.mean(), acc.std()], \n",
    "        'precision': [max(pre), pre.mean(), pre.std()], \n",
    "        'recall': [max(rec), rec.mean(), rec.std()], \n",
    "        'geo mean': [max(gmean), gmean.mean(), gmean.std()],\n",
    "        'f1': [max(f1), f1.mean(), f1.std()],\n",
    "    }\n",
    "\n",
    "    df = pd.DataFrame(data, index=['best', 'mean', 'std'])\n",
    "\n",
    "    return df"
   ]
  },
  {
   "cell_type": "markdown",
   "metadata": {},
   "source": [
    "## Question 1"
   ]
  },
  {
   "cell_type": "code",
   "execution_count": 288,
   "metadata": {},
   "outputs": [
    {
     "data": {
      "text/plain": [
       "array([['apache2', 'back', 'buffer_overflow', 'ftp_write',\n",
       "        'guess_passwd', 'httptunnel', 'imap', 'ipsweep', 'land',\n",
       "        'loadmodule', 'mailbomb', 'mscan', 'multihop', 'named',\n",
       "        'neptune', 'nmap', 'normal', 'perl', 'phf', 'pod', 'portsweep',\n",
       "        'processtable', 'ps', 'rootkit', 'saint', 'satan', 'sendmail',\n",
       "        'smurf', 'snmpgetattack', 'snmpguess', 'spy', 'sqlattack',\n",
       "        'teardrop', 'udpstorm', 'warezclient', 'warezmaster', 'worm',\n",
       "        'xlock', 'xsnoop', 'xterm']], dtype=object)"
      ]
     },
     "execution_count": 288,
     "metadata": {},
     "output_type": "execute_result"
    }
   ],
   "source": [
    "np.sort([data['attack_type'].unique()])"
   ]
  },
  {
   "cell_type": "code",
   "execution_count": 289,
   "metadata": {},
   "outputs": [],
   "source": [
    "# Data Preprocessing\n",
    "# where is mail bomb?\n",
    "\n",
    "Attack_Class = {\n",
    "    'dos': ['apache2', 'back', 'pod', 'processtable', 'worm', 'neptune', 'smurf', 'land', 'udpstorm', 'teardrop'],\n",
    "    'probe': ['satan', 'ipsweep', 'nmap', 'portsweep', 'mscan', 'saint'],\n",
    "    'r2l' : ['guess_passwd', 'ftp_write', 'imap', 'phf', 'multihop', 'warezmaster', 'warezclient', 'spy', 'xlock', 'xsnoop', 'snmpguess', 'snmpgetattack', 'httptunnel', 'sendmail', 'named'],\n",
    "    'u2r': ['buffer_overflow', 'xterm','sqlattack','perl', 'loadmodule', 'ps','rootkit'],\n",
    "}"
   ]
  },
  {
   "cell_type": "code",
   "execution_count": 290,
   "metadata": {},
   "outputs": [],
   "source": [
    "data['attack_class'] = data['attack_type'].map(lambda x: 'dos' if x in Attack_Class['dos'] else 'probe' if x in Attack_Class['probe'] else 'r2l' if x in Attack_Class['r2l'] else 'u2r' if x in Attack_Class['u2r'] else 'normal')"
   ]
  },
  {
   "cell_type": "code",
   "execution_count": 291,
   "metadata": {},
   "outputs": [
    {
     "data": {
      "text/plain": [
       "normal    77345\n",
       "dos       53093\n",
       "probe     14077\n",
       "r2l        3880\n",
       "u2r         119\n",
       "Name: attack_class, dtype: int64"
      ]
     },
     "execution_count": 291,
     "metadata": {},
     "output_type": "execute_result"
    }
   ],
   "source": [
    "data['attack_class'].value_counts()"
   ]
  },
  {
   "cell_type": "code",
   "execution_count": 292,
   "metadata": {},
   "outputs": [],
   "source": [
    "if 'attack_type' in data.columns:   \n",
    "    data = data.drop(['attack_type'], axis=1)\n",
    "\n",
    "data_dummy = pd.get_dummies(data = data, columns = ['protocol_type', 'service', 'flag'])"
   ]
  },
  {
   "cell_type": "code",
   "execution_count": 293,
   "metadata": {},
   "outputs": [],
   "source": [
    "data_normal = data_dummy.loc[data_dummy['attack_class'] == 'normal']\n",
    "data_dos = data_dummy.loc[data_dummy['attack_class'] == 'dos']\n",
    "data_probe = data_dummy.loc[data_dummy['attack_class'] == 'probe']\n",
    "data_r2l = data_dummy.loc[data_dummy['attack_class'] == 'r2l']\n",
    "data_u2r = data_dummy.loc[data_dummy['attack_class'] == 'u2r']"
   ]
  },
  {
   "cell_type": "code",
   "execution_count": 294,
   "metadata": {},
   "outputs": [],
   "source": [
    "target = {\n",
    "    'normal': 6817,\n",
    "    'dos': 11617,\n",
    "    'probe': 988,\n",
    "    'r2l': 53,\n",
    "    'u2r': 3086,\n",
    "}"
   ]
  },
  {
   "cell_type": "markdown",
   "metadata": {},
   "source": [
    "### Step 1 \n",
    "A certain amount of sample data was taken from each data set. Empty lines in some data sets have been removed. "
   ]
  },
  {
   "cell_type": "code",
   "execution_count": 297,
   "metadata": {},
   "outputs": [],
   "source": [
    "# pre process data\n",
    "\n",
    "data_normal_keep = data_normal.iloc[random.randint(0, data_normal.shape[0], target['normal'])]\n",
    "\n",
    "data_dos_keep = data_dos.iloc[random.randint(0, data_dos.shape[0], target['dos'])]\n",
    "\n",
    "data_probe_keep = data_probe.iloc[random.randint(0, data_probe.shape[0], target['probe'])]\n",
    "\n",
    "data_r2l_keep = data_r2l.iloc[random.randint(0, data_r2l.shape[0], target['r2l'])]\n",
    "\n",
    "data_u2r_keep = data_u2r.iloc[random.randint(0, data_u2r.shape[0], target['u2r'])]\n"
   ]
  },
  {
   "cell_type": "markdown",
   "metadata": {},
   "source": [
    "### Step 2\n",
    "The data sets obtained are normalized with the min-max normalization."
   ]
  },
  {
   "cell_type": "code",
   "execution_count": 298,
   "metadata": {},
   "outputs": [],
   "source": [
    "from sklearn.preprocessing import MinMaxScaler\n",
    "\n",
    "scaler = MinMaxScaler()\n",
    "\n",
    "# X_train_scale = scaler.fit_transform(X_train)\n",
    "# X_test_scale = scaler.transform(X_test)\n",
    "\n",
    "combined_data = pd.concat([data_normal_keep, data_dos_keep, data_probe_keep, data_r2l_keep, data_u2r_keep])\n",
    "\n",
    "X = scaler.fit_transform(combined_data.drop(['attack_class'], axis=1))\n",
    "y = combined_data['attack_class']\n"
   ]
  },
  {
   "cell_type": "markdown",
   "metadata": {},
   "source": [
    "### Step 3\n",
    "The data sets are classified with SVM, KNN and DT machine learning methods"
   ]
  },
  {
   "cell_type": "code",
   "execution_count": 302,
   "metadata": {},
   "outputs": [
    {
     "name": "stdout",
     "output_type": "stream",
     "text": [
      "Iteration:  100\n"
     ]
    },
    {
     "data": {
      "text/html": [
       "<div>\n",
       "<style scoped>\n",
       "    .dataframe tbody tr th:only-of-type {\n",
       "        vertical-align: middle;\n",
       "    }\n",
       "\n",
       "    .dataframe tbody tr th {\n",
       "        vertical-align: top;\n",
       "    }\n",
       "\n",
       "    .dataframe thead th {\n",
       "        text-align: right;\n",
       "    }\n",
       "</style>\n",
       "<table border=\"1\" class=\"dataframe\">\n",
       "  <thead>\n",
       "    <tr style=\"text-align: right;\">\n",
       "      <th></th>\n",
       "      <th>accuracy</th>\n",
       "      <th>precision</th>\n",
       "      <th>recall</th>\n",
       "      <th>geo mean</th>\n",
       "      <th>f1</th>\n",
       "    </tr>\n",
       "  </thead>\n",
       "  <tbody>\n",
       "    <tr>\n",
       "      <th>best</th>\n",
       "      <td>0.981383</td>\n",
       "      <td>0.981383</td>\n",
       "      <td>0.981383</td>\n",
       "      <td>0.988340</td>\n",
       "      <td>0.981383</td>\n",
       "    </tr>\n",
       "    <tr>\n",
       "      <th>mean</th>\n",
       "      <td>0.970234</td>\n",
       "      <td>0.970234</td>\n",
       "      <td>0.970234</td>\n",
       "      <td>0.981329</td>\n",
       "      <td>0.970234</td>\n",
       "    </tr>\n",
       "    <tr>\n",
       "      <th>std</th>\n",
       "      <td>0.003462</td>\n",
       "      <td>0.003462</td>\n",
       "      <td>0.003462</td>\n",
       "      <td>0.002178</td>\n",
       "      <td>0.003462</td>\n",
       "    </tr>\n",
       "  </tbody>\n",
       "</table>\n",
       "</div>"
      ],
      "text/plain": [
       "      accuracy  precision    recall  geo mean        f1\n",
       "best  0.981383   0.981383  0.981383  0.988340  0.981383\n",
       "mean  0.970234   0.970234  0.970234  0.981329  0.970234\n",
       "std   0.003462   0.003462  0.003462  0.002178  0.003462"
      ]
     },
     "execution_count": 302,
     "metadata": {},
     "output_type": "execute_result"
    }
   ],
   "source": [
    "# SVM Classifier\n",
    "\n",
    "svm_linearSVC_clf = svm.LinearSVC()\n",
    "cv = KFold(n_splits=10, shuffle=True)\n",
    "result_linearSVC = K_fold_times(svm_linearSVC_clf, X, y, cv=cv,times=100)\n",
    "post_process(result_linearSVC)"
   ]
  },
  {
   "cell_type": "code",
   "execution_count": 303,
   "metadata": {},
   "outputs": [
    {
     "name": "stdout",
     "output_type": "stream",
     "text": [
      "Iteration:  100\n"
     ]
    },
    {
     "data": {
      "text/html": [
       "<div>\n",
       "<style scoped>\n",
       "    .dataframe tbody tr th:only-of-type {\n",
       "        vertical-align: middle;\n",
       "    }\n",
       "\n",
       "    .dataframe tbody tr th {\n",
       "        vertical-align: top;\n",
       "    }\n",
       "\n",
       "    .dataframe thead th {\n",
       "        text-align: right;\n",
       "    }\n",
       "</style>\n",
       "<table border=\"1\" class=\"dataframe\">\n",
       "  <thead>\n",
       "    <tr style=\"text-align: right;\">\n",
       "      <th></th>\n",
       "      <th>accuracy</th>\n",
       "      <th>precision</th>\n",
       "      <th>recall</th>\n",
       "      <th>geo mean</th>\n",
       "      <th>f1</th>\n",
       "    </tr>\n",
       "  </thead>\n",
       "  <tbody>\n",
       "    <tr>\n",
       "      <th>best</th>\n",
       "      <td>0.979610</td>\n",
       "      <td>0.979610</td>\n",
       "      <td>0.979610</td>\n",
       "      <td>0.987227</td>\n",
       "      <td>0.979610</td>\n",
       "    </tr>\n",
       "    <tr>\n",
       "      <th>mean</th>\n",
       "      <td>0.968386</td>\n",
       "      <td>0.968386</td>\n",
       "      <td>0.968386</td>\n",
       "      <td>0.980164</td>\n",
       "      <td>0.968386</td>\n",
       "    </tr>\n",
       "    <tr>\n",
       "      <th>std</th>\n",
       "      <td>0.003703</td>\n",
       "      <td>0.003703</td>\n",
       "      <td>0.003703</td>\n",
       "      <td>0.002333</td>\n",
       "      <td>0.003703</td>\n",
       "    </tr>\n",
       "  </tbody>\n",
       "</table>\n",
       "</div>"
      ],
      "text/plain": [
       "      accuracy  precision    recall  geo mean        f1\n",
       "best  0.979610   0.979610  0.979610  0.987227  0.979610\n",
       "mean  0.968386   0.968386  0.968386  0.980164  0.968386\n",
       "std   0.003703   0.003703  0.003703  0.002333  0.003703"
      ]
     },
     "execution_count": 303,
     "metadata": {},
     "output_type": "execute_result"
    }
   ],
   "source": [
    "svm_quad = svm.SVC(kernel='poly', degree=2)\n",
    "cv = KFold(n_splits=10, shuffle=True)\n",
    "result_svm_quad = K_fold_times(svm_quad, X, y, cv=cv, times=100)\n",
    "post_process(result_svm_quad)"
   ]
  },
  {
   "cell_type": "code",
   "execution_count": 304,
   "metadata": {},
   "outputs": [
    {
     "name": "stdout",
     "output_type": "stream",
     "text": [
      "Iteration:  100\n"
     ]
    },
    {
     "data": {
      "text/html": [
       "<div>\n",
       "<style scoped>\n",
       "    .dataframe tbody tr th:only-of-type {\n",
       "        vertical-align: middle;\n",
       "    }\n",
       "\n",
       "    .dataframe tbody tr th {\n",
       "        vertical-align: top;\n",
       "    }\n",
       "\n",
       "    .dataframe thead th {\n",
       "        text-align: right;\n",
       "    }\n",
       "</style>\n",
       "<table border=\"1\" class=\"dataframe\">\n",
       "  <thead>\n",
       "    <tr style=\"text-align: right;\">\n",
       "      <th></th>\n",
       "      <th>accuracy</th>\n",
       "      <th>precision</th>\n",
       "      <th>recall</th>\n",
       "      <th>geo mean</th>\n",
       "      <th>f1</th>\n",
       "    </tr>\n",
       "  </thead>\n",
       "  <tbody>\n",
       "    <tr>\n",
       "      <th>best</th>\n",
       "      <td>0.982713</td>\n",
       "      <td>0.982713</td>\n",
       "      <td>0.982713</td>\n",
       "      <td>0.989174</td>\n",
       "      <td>0.982713</td>\n",
       "    </tr>\n",
       "    <tr>\n",
       "      <th>mean</th>\n",
       "      <td>0.973019</td>\n",
       "      <td>0.973019</td>\n",
       "      <td>0.973019</td>\n",
       "      <td>0.983080</td>\n",
       "      <td>0.973019</td>\n",
       "    </tr>\n",
       "    <tr>\n",
       "      <th>std</th>\n",
       "      <td>0.003464</td>\n",
       "      <td>0.003464</td>\n",
       "      <td>0.003464</td>\n",
       "      <td>0.002180</td>\n",
       "      <td>0.003464</td>\n",
       "    </tr>\n",
       "  </tbody>\n",
       "</table>\n",
       "</div>"
      ],
      "text/plain": [
       "      accuracy  precision    recall  geo mean        f1\n",
       "best  0.982713   0.982713  0.982713  0.989174  0.982713\n",
       "mean  0.973019   0.973019  0.973019  0.983080  0.973019\n",
       "std   0.003464   0.003464  0.003464  0.002180  0.003464"
      ]
     },
     "execution_count": 304,
     "metadata": {},
     "output_type": "execute_result"
    }
   ],
   "source": [
    "svm_cube = svm.SVC(kernel='poly', degree=3)\n",
    "cv = KFold(n_splits=10, shuffle=True)\n",
    "result_svm_cube = K_fold_times(svm_cube, X, y, cv = cv,times=100)\n",
    "post_process(result_svm_cube)"
   ]
  },
  {
   "cell_type": "code",
   "execution_count": 305,
   "metadata": {},
   "outputs": [
    {
     "name": "stdout",
     "output_type": "stream",
     "text": [
      "Iteration:  100\n"
     ]
    },
    {
     "data": {
      "text/html": [
       "<div>\n",
       "<style scoped>\n",
       "    .dataframe tbody tr th:only-of-type {\n",
       "        vertical-align: middle;\n",
       "    }\n",
       "\n",
       "    .dataframe tbody tr th {\n",
       "        vertical-align: top;\n",
       "    }\n",
       "\n",
       "    .dataframe thead th {\n",
       "        text-align: right;\n",
       "    }\n",
       "</style>\n",
       "<table border=\"1\" class=\"dataframe\">\n",
       "  <thead>\n",
       "    <tr style=\"text-align: right;\">\n",
       "      <th></th>\n",
       "      <th>accuracy</th>\n",
       "      <th>precision</th>\n",
       "      <th>recall</th>\n",
       "      <th>geo mean</th>\n",
       "      <th>f1</th>\n",
       "    </tr>\n",
       "  </thead>\n",
       "  <tbody>\n",
       "    <tr>\n",
       "      <th>best</th>\n",
       "      <td>0.997340</td>\n",
       "      <td>0.997340</td>\n",
       "      <td>0.997340</td>\n",
       "      <td>0.998337</td>\n",
       "      <td>0.997340</td>\n",
       "    </tr>\n",
       "    <tr>\n",
       "      <th>mean</th>\n",
       "      <td>0.992167</td>\n",
       "      <td>0.992167</td>\n",
       "      <td>0.992167</td>\n",
       "      <td>0.995100</td>\n",
       "      <td>0.992167</td>\n",
       "    </tr>\n",
       "    <tr>\n",
       "      <th>std</th>\n",
       "      <td>0.001867</td>\n",
       "      <td>0.001867</td>\n",
       "      <td>0.001867</td>\n",
       "      <td>0.001169</td>\n",
       "      <td>0.001867</td>\n",
       "    </tr>\n",
       "  </tbody>\n",
       "</table>\n",
       "</div>"
      ],
      "text/plain": [
       "      accuracy  precision    recall  geo mean        f1\n",
       "best  0.997340   0.997340  0.997340  0.998337  0.997340\n",
       "mean  0.992167   0.992167  0.992167  0.995100  0.992167\n",
       "std   0.001867   0.001867  0.001867  0.001169  0.001867"
      ]
     },
     "execution_count": 305,
     "metadata": {},
     "output_type": "execute_result"
    }
   ],
   "source": [
    "knn_fine = KNeighborsClassifier(n_neighbors=1)\n",
    "cv = KFold(n_splits=10, shuffle=True)\n",
    "result_knn_fine = K_fold_times(knn_fine, X, y, cv = cv,times=100)\n",
    "post_process(result_knn_fine)"
   ]
  },
  {
   "cell_type": "code",
   "execution_count": 306,
   "metadata": {},
   "outputs": [
    {
     "name": "stdout",
     "output_type": "stream",
     "text": [
      "Iteration:  100\n"
     ]
    },
    {
     "data": {
      "text/html": [
       "<div>\n",
       "<style scoped>\n",
       "    .dataframe tbody tr th:only-of-type {\n",
       "        vertical-align: middle;\n",
       "    }\n",
       "\n",
       "    .dataframe tbody tr th {\n",
       "        vertical-align: top;\n",
       "    }\n",
       "\n",
       "    .dataframe thead th {\n",
       "        text-align: right;\n",
       "    }\n",
       "</style>\n",
       "<table border=\"1\" class=\"dataframe\">\n",
       "  <thead>\n",
       "    <tr style=\"text-align: right;\">\n",
       "      <th></th>\n",
       "      <th>accuracy</th>\n",
       "      <th>precision</th>\n",
       "      <th>recall</th>\n",
       "      <th>geo mean</th>\n",
       "      <th>f1</th>\n",
       "    </tr>\n",
       "  </thead>\n",
       "  <tbody>\n",
       "    <tr>\n",
       "      <th>best</th>\n",
       "      <td>0.989805</td>\n",
       "      <td>0.989805</td>\n",
       "      <td>0.989805</td>\n",
       "      <td>0.993621</td>\n",
       "      <td>0.989805</td>\n",
       "    </tr>\n",
       "    <tr>\n",
       "      <th>mean</th>\n",
       "      <td>0.981828</td>\n",
       "      <td>0.981828</td>\n",
       "      <td>0.981828</td>\n",
       "      <td>0.988619</td>\n",
       "      <td>0.981828</td>\n",
       "    </tr>\n",
       "    <tr>\n",
       "      <th>std</th>\n",
       "      <td>0.002864</td>\n",
       "      <td>0.002864</td>\n",
       "      <td>0.002864</td>\n",
       "      <td>0.001797</td>\n",
       "      <td>0.002864</td>\n",
       "    </tr>\n",
       "  </tbody>\n",
       "</table>\n",
       "</div>"
      ],
      "text/plain": [
       "      accuracy  precision    recall  geo mean        f1\n",
       "best  0.989805   0.989805  0.989805  0.993621  0.989805\n",
       "mean  0.981828   0.981828  0.981828  0.988619  0.981828\n",
       "std   0.002864   0.002864  0.002864  0.001797  0.002864"
      ]
     },
     "execution_count": 306,
     "metadata": {},
     "output_type": "execute_result"
    }
   ],
   "source": [
    "knn_med = KNeighborsClassifier(n_neighbors=10)\n",
    "cv = KFold(n_splits=10, shuffle=True)\n",
    "result_knn_med = K_fold_times(knn_med, X, y, cv = cv,times=100)\n",
    "post_process(result_knn_med)"
   ]
  },
  {
   "cell_type": "code",
   "execution_count": 307,
   "metadata": {},
   "outputs": [
    {
     "name": "stdout",
     "output_type": "stream",
     "text": [
      "Iteration:  100\n"
     ]
    },
    {
     "data": {
      "text/html": [
       "<div>\n",
       "<style scoped>\n",
       "    .dataframe tbody tr th:only-of-type {\n",
       "        vertical-align: middle;\n",
       "    }\n",
       "\n",
       "    .dataframe tbody tr th {\n",
       "        vertical-align: top;\n",
       "    }\n",
       "\n",
       "    .dataframe thead th {\n",
       "        text-align: right;\n",
       "    }\n",
       "</style>\n",
       "<table border=\"1\" class=\"dataframe\">\n",
       "  <thead>\n",
       "    <tr style=\"text-align: right;\">\n",
       "      <th></th>\n",
       "      <th>accuracy</th>\n",
       "      <th>precision</th>\n",
       "      <th>recall</th>\n",
       "      <th>geo mean</th>\n",
       "      <th>f1</th>\n",
       "    </tr>\n",
       "  </thead>\n",
       "  <tbody>\n",
       "    <tr>\n",
       "      <th>best</th>\n",
       "      <td>0.993351</td>\n",
       "      <td>0.993351</td>\n",
       "      <td>0.993351</td>\n",
       "      <td>0.995841</td>\n",
       "      <td>0.993351</td>\n",
       "    </tr>\n",
       "    <tr>\n",
       "      <th>mean</th>\n",
       "      <td>0.985357</td>\n",
       "      <td>0.985357</td>\n",
       "      <td>0.985357</td>\n",
       "      <td>0.990831</td>\n",
       "      <td>0.985357</td>\n",
       "    </tr>\n",
       "    <tr>\n",
       "      <th>std</th>\n",
       "      <td>0.002464</td>\n",
       "      <td>0.002464</td>\n",
       "      <td>0.002464</td>\n",
       "      <td>0.001545</td>\n",
       "      <td>0.002464</td>\n",
       "    </tr>\n",
       "  </tbody>\n",
       "</table>\n",
       "</div>"
      ],
      "text/plain": [
       "      accuracy  precision    recall  geo mean        f1\n",
       "best  0.993351   0.993351  0.993351  0.995841  0.993351\n",
       "mean  0.985357   0.985357  0.985357  0.990831  0.985357\n",
       "std   0.002464   0.002464  0.002464  0.001545  0.002464"
      ]
     },
     "execution_count": 307,
     "metadata": {},
     "output_type": "execute_result"
    }
   ],
   "source": [
    "knn_cubic = KNeighborsClassifier(p=3)\n",
    "cv = KFold(n_splits=10, shuffle=True)\n",
    "result_knn_cubic = K_fold_times(knn_cubic, X, y, cv = cv,times=100)\n",
    "post_process(result_knn_cubic)"
   ]
  },
  {
   "cell_type": "code",
   "execution_count": 308,
   "metadata": {},
   "outputs": [
    {
     "name": "stdout",
     "output_type": "stream",
     "text": [
      "Iteration:  100\n"
     ]
    },
    {
     "data": {
      "text/html": [
       "<div>\n",
       "<style scoped>\n",
       "    .dataframe tbody tr th:only-of-type {\n",
       "        vertical-align: middle;\n",
       "    }\n",
       "\n",
       "    .dataframe tbody tr th {\n",
       "        vertical-align: top;\n",
       "    }\n",
       "\n",
       "    .dataframe thead th {\n",
       "        text-align: right;\n",
       "    }\n",
       "</style>\n",
       "<table border=\"1\" class=\"dataframe\">\n",
       "  <thead>\n",
       "    <tr style=\"text-align: right;\">\n",
       "      <th></th>\n",
       "      <th>accuracy</th>\n",
       "      <th>precision</th>\n",
       "      <th>recall</th>\n",
       "      <th>geo mean</th>\n",
       "      <th>f1</th>\n",
       "    </tr>\n",
       "  </thead>\n",
       "  <tbody>\n",
       "    <tr>\n",
       "      <th>best</th>\n",
       "      <td>0.996454</td>\n",
       "      <td>0.996454</td>\n",
       "      <td>0.996454</td>\n",
       "      <td>0.997783</td>\n",
       "      <td>0.996454</td>\n",
       "    </tr>\n",
       "    <tr>\n",
       "      <th>mean</th>\n",
       "      <td>0.990318</td>\n",
       "      <td>0.990318</td>\n",
       "      <td>0.990318</td>\n",
       "      <td>0.993941</td>\n",
       "      <td>0.990318</td>\n",
       "    </tr>\n",
       "    <tr>\n",
       "      <th>std</th>\n",
       "      <td>0.002042</td>\n",
       "      <td>0.002042</td>\n",
       "      <td>0.002042</td>\n",
       "      <td>0.001280</td>\n",
       "      <td>0.002042</td>\n",
       "    </tr>\n",
       "  </tbody>\n",
       "</table>\n",
       "</div>"
      ],
      "text/plain": [
       "      accuracy  precision    recall  geo mean        f1\n",
       "best  0.996454   0.996454  0.996454  0.997783  0.996454\n",
       "mean  0.990318   0.990318  0.990318  0.993941  0.990318\n",
       "std   0.002042   0.002042  0.002042  0.001280  0.002042"
      ]
     },
     "execution_count": 308,
     "metadata": {},
     "output_type": "execute_result"
    }
   ],
   "source": [
    "tree_fine = DecisionTreeClassifier(max_leaf_nodes = 100)\n",
    "cv = KFold(n_splits=10, shuffle=True)\n",
    "result_tree_fine = K_fold_times(tree_fine, X, y, cv = cv,times=100)\n",
    "post_process(result_tree_fine)"
   ]
  },
  {
   "cell_type": "code",
   "execution_count": 309,
   "metadata": {},
   "outputs": [
    {
     "name": "stdout",
     "output_type": "stream",
     "text": [
      "Iteration:  100\n"
     ]
    },
    {
     "data": {
      "text/html": [
       "<div>\n",
       "<style scoped>\n",
       "    .dataframe tbody tr th:only-of-type {\n",
       "        vertical-align: middle;\n",
       "    }\n",
       "\n",
       "    .dataframe tbody tr th {\n",
       "        vertical-align: top;\n",
       "    }\n",
       "\n",
       "    .dataframe thead th {\n",
       "        text-align: right;\n",
       "    }\n",
       "</style>\n",
       "<table border=\"1\" class=\"dataframe\">\n",
       "  <thead>\n",
       "    <tr style=\"text-align: right;\">\n",
       "      <th></th>\n",
       "      <th>accuracy</th>\n",
       "      <th>precision</th>\n",
       "      <th>recall</th>\n",
       "      <th>geo mean</th>\n",
       "      <th>f1</th>\n",
       "    </tr>\n",
       "  </thead>\n",
       "  <tbody>\n",
       "    <tr>\n",
       "      <th>best</th>\n",
       "      <td>0.975177</td>\n",
       "      <td>0.975177</td>\n",
       "      <td>0.975177</td>\n",
       "      <td>0.984442</td>\n",
       "      <td>0.975177</td>\n",
       "    </tr>\n",
       "    <tr>\n",
       "      <th>mean</th>\n",
       "      <td>0.953127</td>\n",
       "      <td>0.953127</td>\n",
       "      <td>0.953127</td>\n",
       "      <td>0.970537</td>\n",
       "      <td>0.953127</td>\n",
       "    </tr>\n",
       "    <tr>\n",
       "      <th>std</th>\n",
       "      <td>0.005649</td>\n",
       "      <td>0.005649</td>\n",
       "      <td>0.005649</td>\n",
       "      <td>0.003567</td>\n",
       "      <td>0.005649</td>\n",
       "    </tr>\n",
       "  </tbody>\n",
       "</table>\n",
       "</div>"
      ],
      "text/plain": [
       "      accuracy  precision    recall  geo mean        f1\n",
       "best  0.975177   0.975177  0.975177  0.984442  0.975177\n",
       "mean  0.953127   0.953127  0.953127  0.970537  0.953127\n",
       "std   0.005649   0.005649  0.005649  0.003567  0.005649"
      ]
     },
     "execution_count": 309,
     "metadata": {},
     "output_type": "execute_result"
    }
   ],
   "source": [
    "tree_med = DecisionTreeClassifier(max_leaf_nodes = 20)\n",
    "cv = KFold(n_splits=10, shuffle=True)\n",
    "result_tree_med = K_fold_times(tree_med, X, y, cv = cv,times=100)\n",
    "post_process(result_tree_med)"
   ]
  },
  {
   "cell_type": "markdown",
   "metadata": {},
   "source": [
    "[1]. Mahfouz, A. M., Venugopal, D., & Shiva, S. G. (2020). Comparative analysis of ML classifiers for network intrusion detection. In Fourth international congress on information and communication technology (pp. 193-207). Springer, Singapore.\n",
    "\n",
    "[2]. Dhanabal, L., & Shantharajah, S. P. (2015). A study on NSL-KDD dataset for intrusion detection system based on classification algorithms. International journal of advanced research in computer and communication engineering, 4(6), 446-452.\n",
    "\n",
    "[3]. Johnson, J. M., & Yadav, A. (2018). Fault detection and classification technique for HVDC transmission lines using KNN. In Information and communication technology for sustainable development (pp. 245-253). Springer, Singapore."
   ]
  }
 ],
 "metadata": {
  "kernelspec": {
   "display_name": "Python 3 (ipykernel)",
   "language": "python",
   "name": "python3"
  },
  "language_info": {
   "codemirror_mode": {
    "name": "ipython",
    "version": 3
   },
   "file_extension": ".py",
   "mimetype": "text/x-python",
   "name": "python",
   "nbconvert_exporter": "python",
   "pygments_lexer": "ipython3",
   "version": "3.10.4"
  },
  "vscode": {
   "interpreter": {
    "hash": "b0dea77f4f833515ac4cd6c116b18e7943ec0172ef1faa86df598b7bde739f71"
   }
  }
 },
 "nbformat": 4,
 "nbformat_minor": 4
}
