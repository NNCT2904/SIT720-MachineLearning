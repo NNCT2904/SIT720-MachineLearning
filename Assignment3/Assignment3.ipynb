{
 "cells": [
  {
   "cell_type": "markdown",
   "metadata": {},
   "source": [
    "# Assignment 3 - SIT720 Machine Learning"
   ]
  },
  {
   "cell_type": "code",
   "execution_count": 1,
   "metadata": {},
   "outputs": [],
   "source": [
    "import csv\n",
    "import pandas as pd\n",
    "import numpy as np\n",
    "import matplotlib.pyplot as plt"
   ]
  },
  {
   "cell_type": "code",
   "execution_count": 3,
   "metadata": {},
   "outputs": [],
   "source": [
    "file = 'yeast2vs4.csv'\n",
    "data = pd.read_csv(file)"
   ]
  },
  {
   "cell_type": "code",
   "execution_count": null,
   "metadata": {},
   "outputs": [],
   "source": [
    "plt.rcParams['figure.dpi'] = 300\n",
    "plt.rcParams['savefig.dpi'] = 300"
   ]
  },
  {
   "cell_type": "markdown",
   "metadata": {},
   "source": [
    "## Section 1"
   ]
  },
  {
   "cell_type": "markdown",
   "metadata": {},
   "source": [
    "### Question 1\n",
    "\n",
    "What are the differences between hyperparameter and parameter of a machine learning (ML) model.\n",
    "Explain your answer using at least two machine learning models that you have learned in this unit.\n"
   ]
  },
  {
   "cell_type": "markdown",
   "metadata": {},
   "source": [
    "### Question 2\n",
    "Prove that Elastic net can be used as either LASSO or Ridge regulariser."
   ]
  },
  {
   "cell_type": "markdown",
   "metadata": {},
   "source": [
    "## Section 2\n",
    "\n",
    "**Background**\n",
    "\n",
    "The recently started human and other genome projects are likely to change the situation of molecular biology.\n",
    "Comprehensive analyses of whole genomic sequences will enable us to understand the general mechanisms of how protein and nucleic acid functions are encoded in the sequence data.\n",
    "\n",
    "**Dataset filename:** yeast2vs4.csv\n",
    "\n",
    "**Dataset description:** There are 8 features and one target in the dataset. All the features are in a numerical format, and the target is in text format. \n",
    "For further information about the attributes, please read “Data Set Information.pdf”.\n",
    "\n",
    "\n",
    "**Note**\n",
    "\n",
    "N. B. Question 5 is a HD (High Distinction) level question. Those students who target HD grade should answer this question (including answering all the above questions). \n",
    "For others, this question is an option. \n",
    "This question aims to demonstrate your expertise in the subject area and the ability to do your own research in the related area."
   ]
  },
  {
   "cell_type": "markdown",
   "metadata": {},
   "source": [
    "### Question 3\n",
    "Analyse the importance of the features for predicting presence or absence of protein using two different approaches. \n",
    "Explain the similarity/difference between outcomes."
   ]
  },
  {
   "cell_type": "markdown",
   "metadata": {},
   "source": [
    "### Question 4\n",
    "Create three supervised machine learning (ML) models except any ensemble approach for predicting presence or absence of protein.\n",
    "1. Report performance score using a suitable metric. \n",
    "   Is it possible that the presented result is an overfitted one? Justify.\n",
    "2. Justify different design decisions for each ML model used to answer this question.\n",
    "3. Have you optimised any hyper-parameters for each ML model? \n",
    "   What are they? Why have you done that? Explain.\n",
    "4. Finally, make a recommendation based on the reported results and justify it."
   ]
  },
  {
   "cell_type": "markdown",
   "metadata": {},
   "source": [
    "### Question 5\n",
    "Build three ensemble models for predicting presence or absence of protein.\n",
    "\n",
    "1. When do you want to use ensemble models over other ML models?\n",
    "2. What are the similarities or differences between these models?\n",
    "3. Is there any preferable scenario for using any specific model among the set of ensemble models?\n",
    "4. Write a report comparing performances of models built in question 5 and 6. \n",
    "   Report the best method based on model complexity and performance.\n",
    "5. Is it possible to build ensemble model using ML classifiers other than decision tree? \n",
    "   If yes, then explain with an example.\n"
   ]
  }
 ],
 "metadata": {
  "kernelspec": {
   "display_name": "Python 3.10.6 ('SIT720-MachineLearning-OG4_ogt2')",
   "language": "python",
   "name": "python3"
  },
  "language_info": {
   "codemirror_mode": {
    "name": "ipython",
    "version": 3
   },
   "file_extension": ".py",
   "mimetype": "text/x-python",
   "name": "python",
   "nbconvert_exporter": "python",
   "pygments_lexer": "ipython3",
   "version": "3.10.6"
  },
  "orig_nbformat": 4,
  "vscode": {
   "interpreter": {
    "hash": "fe90d5f600e9f3485670aa265b395251dcedc757b1e45d8350c6f8ef39d6b57b"
   }
  }
 },
 "nbformat": 4,
 "nbformat_minor": 2
}
