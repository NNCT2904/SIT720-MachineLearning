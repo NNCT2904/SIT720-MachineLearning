{
 "cells": [
  {
   "cell_type": "markdown",
   "metadata": {},
   "source": [
    "# SIT 720 - Assignment Task 1: Problem solving task.\n",
    "\n",
    "Student: Thanh (Tim) Nguyen - 218583133"
   ]
  },
  {
   "cell_type": "markdown",
   "metadata": {},
   "source": [
    "## Import Dependencies"
   ]
  },
  {
   "cell_type": "code",
   "execution_count": 3,
   "metadata": {},
   "outputs": [],
   "source": [
    "import csv\n",
    "import pandas as pd"
   ]
  },
  {
   "cell_type": "markdown",
   "metadata": {},
   "source": [
    "## Question 1\n",
    "- Load the data from supplied data file\n",
    "- Remove the samples where the oil temperature is less than 4\n",
    "- Print the data dimension before and after"
   ]
  },
  {
   "cell_type": "code",
   "execution_count": 14,
   "metadata": {},
   "outputs": [
    {
     "name": "stdout",
     "output_type": "stream",
     "text": [
      "Original shape:  (17420, 8)\n",
      "Filtered shape:  (15699, 8)\n"
     ]
    }
   ],
   "source": [
    "# Load data\n",
    "data = pd.read_csv('./ETTh1.csv')\n",
    "\n",
    "# Shape original\n",
    "print('Original shape: ', data.shape)\n",
    "\n",
    "# Filter out the temperature < 4\n",
    "data = data[data.OT >= 4]\n",
    "\n",
    "print('Filtered shape: ', data.shape)"
   ]
  }
 ],
 "metadata": {
  "interpreter": {
   "hash": "fe90d5f600e9f3485670aa265b395251dcedc757b1e45d8350c6f8ef39d6b57b"
  },
  "kernelspec": {
   "display_name": "Python 3.10.5 ('SIT720-MachineLearning-OG4_ogt2')",
   "language": "python",
   "name": "python3"
  },
  "language_info": {
   "codemirror_mode": {
    "name": "ipython",
    "version": 3
   },
   "file_extension": ".py",
   "mimetype": "text/x-python",
   "name": "python",
   "nbconvert_exporter": "python",
   "pygments_lexer": "ipython3",
   "version": "3.10.5"
  },
  "orig_nbformat": 4
 },
 "nbformat": 4,
 "nbformat_minor": 2
}
